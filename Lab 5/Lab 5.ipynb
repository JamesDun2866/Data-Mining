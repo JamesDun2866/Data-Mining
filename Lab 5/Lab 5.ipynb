{
 "cells": [
  {
   "cell_type": "code",
   "execution_count": 1,
   "metadata": {},
   "outputs": [],
   "source": [
    "import pandas as pd\n",
    "import seaborn as sns\n",
    "import numpy as np\n",
    "import sklearn as sk\n",
    "from sklearn import preprocessing\n",
    "from sklearn.metrics import confusion_matrix\n",
    "import matplotlib.pyplot as plt\n",
    "from sklearn.utils.multiclass import unique_labels\n",
    "from sklearn import svm, datasets\n",
    "from sklearn.model_selection import train_test_split\n",
    "from sklearn.linear_model import LinearRegression\n",
    "from sklearn.metrics import mean_absolute_error \n",
    "from sklearn.metrics import mean_squared_error "
   ]
  },
  {
   "cell_type": "code",
   "execution_count": 2,
   "metadata": {},
   "outputs": [],
   "source": [
    "gt =   [\"C\", \"NC\",\"C\", \"C\", \"C\",\"NC\",\"NC\",\"NC\",\"NC\",\"C\", \"NC\",\"NC\",\"C\", \"C\", \"NC\",\"NC\",\"NC\"]\n",
    "pred = [\"NC\",\"NC\",\"NC\",\"NC\",\"C\",\"NC\",\"NC\",\"C\", \"NC\",\"NC\",\"C\", \"C\", \"NC\",\"NC\",\"NC\",\"C\", \"NC\"] # Where C = Claim, NC = No Claim"
   ]
  },
  {
   "cell_type": "code",
   "execution_count": 3,
   "metadata": {},
   "outputs": [],
   "source": [
    "#FN,TN,FN,FN,TP,TN,TN,FP,FN,FN,FP,FP.FN,FN,TN,FP,TN\n",
    "#FN = 7\n",
    "#FP = 3\n",
    "#TP = 2\n",
    "#TN = 5\n",
    "#Total Data points = 17\n",
    "\n",
    "#Accuracy = 7/17 = 41.17% \n",
    "#sensitvity = 2/9 = 22%\n",
    "#Specificity = 5/8 = 62.5%\n"
   ]
  },
  {
   "cell_type": "code",
   "execution_count": 4,
   "metadata": {},
   "outputs": [],
   "source": [
    "\n",
    "# Unnormalised\n",
    "\n",
    "#                   Ground Truth\n",
    "#_______________________________________________\n",
    "# |          |     CLAIM    |      NO CLAIM    |\n",
    "#_|__________|______________|__________________|\n",
    "#P|          |              |                  |\n",
    "#R| CLAIM    |       2      |         3        |\n",
    "#E|          |              |                  |\n",
    "#D|__________|______________|__________________|\n",
    "#I|          |              |                  |\n",
    "#C| NO CLAIM |              |                  |\n",
    "#T|          |       7      |         5        |\n",
    "#E|          |              |                  |\n",
    "#D|__________|______________|__________________|\n",
    "# |          |              |                  |\n",
    "# |          |       9      |         8        |\n",
    "#_|__________|______________|__________________|\n"
   ]
  },
  {
   "cell_type": "code",
   "execution_count": 5,
   "metadata": {},
   "outputs": [],
   "source": [
    "\n",
    "# Normalised\n",
    "\n",
    "#                   Ground Truth\n",
    "#_______________________________________________\n",
    "# |          |     CLAIM    |      NO CLAIM    |\n",
    "#_|__________|______________|__________________|\n",
    "#P|          |              |                  |\n",
    "#R| CLAIM    |     0.22     |      0.37        |\n",
    "#E|          |              |                  |\n",
    "#D|__________|______________|__________________|\n",
    "#I|          |              |                  |\n",
    "#C| NO CLAIM |              |                  |\n",
    "#T|          |     0.77     |      0.62        |\n",
    "#E|          |              |                  |\n",
    "#D|__________|______________|__________________|\n",
    "# |          |              |                  |\n",
    "# |          |       9      |         8        |\n",
    "#_|__________|______________|__________________|\n"
   ]
  },
  {
   "cell_type": "code",
   "execution_count": 6,
   "metadata": {},
   "outputs": [
    {
     "data": {
      "text/plain": [
       "(1, 6, 4, 6)"
      ]
     },
     "execution_count": 6,
     "metadata": {},
     "output_type": "execute_result"
    }
   ],
   "source": [
    "tn,fp,fn,tp = confusion_matrix(gt, pred).ravel()\n",
    "\n",
    "(tn,fp,fn,tp)"
   ]
  },
  {
   "cell_type": "code",
   "execution_count": 7,
   "metadata": {},
   "outputs": [],
   "source": [
    "iris = datasets.load_iris()"
   ]
  },
  {
   "cell_type": "code",
   "execution_count": 8,
   "metadata": {},
   "outputs": [],
   "source": [
    "#Code taken and editied from here(https://scikit-learn.org/stable/auto_examples/model_selection/plot_confusion_matrix.html) added to make confusion matrixes look better and clearer than the standard array format\n",
    "\n",
    "\n",
    "classes = [\"C\",\"NC\"] #set clasess for data analysing \n",
    "def plot_confusion_matrix(y_true, y_pred, classes,\n",
    "                          normalize=False,\n",
    "                          title=None,\n",
    "                          cmap=plt.cm.Blues):\n",
    "    if not title: #sets title of confustion matrix if there isnt one\n",
    "        if normalize:\n",
    "            title = 'Normalized confusion matrix'\n",
    "        else:\n",
    "            title = 'Confusion matrix, without normalization'\n",
    "\n",
    "    # set confusion matrix\n",
    "    cm = confusion_matrix(y_true, y_pred)\n",
    "    \n",
    "    # Only use the labels that appear in the data bhased on the set class data\n",
    "    classes = classes\n",
    "    if normalize:\n",
    "        cm = cm.astype('float') / cm.sum(axis=1)[:, np.newaxis]\n",
    "        print(\"Normalized confusion matrix\")\n",
    "    else:\n",
    "        print('Confusion matrix, without normalization')\n",
    "\n",
    "    print(cm)\n",
    "\n",
    "    fig, ax = plt.subplots()\n",
    "    im = ax.imshow(cm, interpolation='nearest', cmap=cmap)\n",
    "    ax.figure.colorbar(im, ax=ax)\n",
    "    # We want to show all ticks...\n",
    "    ax.set(xticks=np.arange(cm.shape[1]),\n",
    "           yticks=np.arange(cm.shape[0]),\n",
    "           # ... and label them with the respective list entries\n",
    "           xticklabels=classes, yticklabels=classes,\n",
    "           title=title,\n",
    "           ylabel='True label',\n",
    "           xlabel='Predicted label')\n",
    "\n",
    "    # Rotate the tick labels and set their alignment.\n",
    "    plt.setp(ax.get_xticklabels(), rotation=45, ha=\"right\",\n",
    "             rotation_mode=\"anchor\")\n",
    "\n",
    "    # Loop over data dimensions and create text annotations.\n",
    "    fmt = '.2f' if normalize else 'd'\n",
    "    thresh = cm.max() / 2.\n",
    "    for i in range(cm.shape[0]):\n",
    "        for j in range(cm.shape[1]):\n",
    "            ax.text(j, i, format(cm[i, j], fmt),\n",
    "                    ha=\"center\", va=\"center\",\n",
    "                    color=\"white\" if cm[i, j] > thresh else \"black\")\n",
    "    fig.tight_layout()\n",
    "    return ax\n"
   ]
  },
  {
   "cell_type": "code",
   "execution_count": 9,
   "metadata": {},
   "outputs": [
    {
     "name": "stdout",
     "output_type": "stream",
     "text": [
      "Confusion matrix, without normalization\n",
      "[[1 6]\n",
      " [4 6]]\n"
     ]
    },
    {
     "data": {
      "text/plain": [
       "<matplotlib.axes._subplots.AxesSubplot at 0x24706d50>"
      ]
     },
     "execution_count": 9,
     "metadata": {},
     "output_type": "execute_result"
    },
    {
     "data": {
      "image/png": "[encoded data removed]",
      "text/plain": [
       "<Figure size 432x288 with 2 Axes>"
      ]
     },
     "metadata": {
      "needs_background": "light"
     },
     "output_type": "display_data"
    }
   ],
   "source": [
    "plot_confusion_matrix(gt, pred, classes=classes, title='Confusion matrix, without normalization')\n",
    "#non normalised confusion matrix"
   ]
  },
  {
   "cell_type": "code",
   "execution_count": 10,
   "metadata": {},
   "outputs": [
    {
     "name": "stdout",
     "output_type": "stream",
     "text": [
      "Normalized confusion matrix\n",
      "[[0.14285714 0.85714286]\n",
      " [0.4        0.6       ]]\n"
     ]
    },
    {
     "data": {
      "text/plain": [
       "<matplotlib.axes._subplots.AxesSubplot at 0x257ef9b0>"
      ]
     },
     "execution_count": 10,
     "metadata": {},
     "output_type": "execute_result"
    },
    {
     "data": {
      "image/png": "[encoded data removed]",
      "text/plain": [
       "<Figure size 432x288 with 2 Axes>"
      ]
     },
     "metadata": {
      "needs_background": "light"
     },
     "output_type": "display_data"
    }
   ],
   "source": [
    "plot_confusion_matrix(gt, pred, classes=classes, normalize=True, title='Normalized confusion matrix')\n",
    "#normalised confusion matrix"
   ]
  },
  {
   "cell_type": "code",
   "execution_count": 11,
   "metadata": {},
   "outputs": [
    {
     "data": {
      "text/html": [
       "<div>\n",
       "<style scoped>\n",
       "    .dataframe tbody tr th:only-of-type {\n",
       "        vertical-align: middle;\n",
       "    }\n",
       "\n",
       "    .dataframe tbody tr th {\n",
       "        vertical-align: top;\n",
       "    }\n",
       "\n",
       "    .dataframe thead th {\n",
       "        text-align: right;\n",
       "    }\n",
       "</style>\n",
       "<table border=\"1\" class=\"dataframe\">\n",
       "  <thead>\n",
       "    <tr style=\"text-align: right;\">\n",
       "      <th></th>\n",
       "      <th>x</th>\n",
       "      <th>y</th>\n",
       "    </tr>\n",
       "  </thead>\n",
       "  <tbody>\n",
       "    <tr>\n",
       "      <th>0</th>\n",
       "      <td>26</td>\n",
       "      <td>-9.210066</td>\n",
       "    </tr>\n",
       "    <tr>\n",
       "      <th>1</th>\n",
       "      <td>58</td>\n",
       "      <td>-120.894408</td>\n",
       "    </tr>\n",
       "    <tr>\n",
       "      <th>2</th>\n",
       "      <td>259</td>\n",
       "      <td>487.066020</td>\n",
       "    </tr>\n",
       "    <tr>\n",
       "      <th>3</th>\n",
       "      <td>309</td>\n",
       "      <td>595.576618</td>\n",
       "    </tr>\n",
       "    <tr>\n",
       "      <th>4</th>\n",
       "      <td>323</td>\n",
       "      <td>376.560146</td>\n",
       "    </tr>\n",
       "  </tbody>\n",
       "</table>\n",
       "</div>"
      ],
      "text/plain": [
       "     x           y\n",
       "0   26   -9.210066\n",
       "1   58 -120.894408\n",
       "2  259  487.066020\n",
       "3  309  595.576618\n",
       "4  323  376.560146"
      ]
     },
     "execution_count": 11,
     "metadata": {},
     "output_type": "execute_result"
    }
   ],
   "source": [
    "simpledata = pd.read_csv(\"toy_data.csv\").copy()\n",
    "simpledata.head()"
   ]
  },
  {
   "cell_type": "code",
   "execution_count": 12,
   "metadata": {},
   "outputs": [
    {
     "data": {
      "text/plain": [
       "<matplotlib.axes._subplots.AxesSubplot at 0x258aa450>"
      ]
     },
     "execution_count": 12,
     "metadata": {},
     "output_type": "execute_result"
    },
    {
     "data": {
      "image/png": "[encoded data removed]",
      "text/plain": [
       "<Figure size 432x288 with 1 Axes>"
      ]
     },
     "metadata": {
      "needs_background": "light"
     },
     "output_type": "display_data"
    }
   ],
   "source": [
    "sns.scatterplot(x=\"x\", y=\"y\", data=simpledata)"
   ]
  },
  {
   "cell_type": "code",
   "execution_count": 13,
   "metadata": {},
   "outputs": [],
   "source": [
    "x = simpledata['x'] #find col x\n",
    "y = simpledata['y'] #find col y"
   ]
  },
  {
   "cell_type": "code",
   "execution_count": 14,
   "metadata": {},
   "outputs": [],
   "source": [
    "xTrain, xTest, = train_test_split(x, test_size = 0.30, shuffle = False) #70/30 split of the x data\n",
    "yTrain, yTest, = train_test_split(y, test_size = 0.30, shuffle = False) #70/30 split of the y data"
   ]
  },
  {
   "cell_type": "code",
   "execution_count": 15,
   "metadata": {},
   "outputs": [
    {
     "data": {
      "image/png": "[encoded data removed]",
      "text/plain": [
       "<Figure size 432x288 with 1 Axes>"
      ]
     },
     "metadata": {
      "needs_background": "light"
     },
     "output_type": "display_data"
    }
   ],
   "source": [
    "Train = sns.scatterplot(x=xTrain, y=yTrain) # plot the train split"
   ]
  },
  {
   "cell_type": "code",
   "execution_count": 16,
   "metadata": {},
   "outputs": [
    {
     "data": {
      "image/png": "[encoded data removed]",
      "text/plain": [
       "<Figure size 432x288 with 1 Axes>"
      ]
     },
     "metadata": {
      "needs_background": "light"
     },
     "output_type": "display_data"
    }
   ],
   "source": [
    "Test = sns.scatterplot(x=xTest, y=yTest)#plot the test split"
   ]
  },
  {
   "cell_type": "code",
   "execution_count": 17,
   "metadata": {},
   "outputs": [
    {
     "name": "stdout",
     "output_type": "stream",
     "text": [
      "shape before reshaping:\n",
      "Train X (63,)\n",
      "Train Y (63,)\n",
      "\n",
      "\n",
      "Shape after reshaping:\n",
      "Train X:  (63, 1)\n",
      "Train Y:  (63, 1)\n",
      "\n",
      "\n",
      "shape before reshaping:\n",
      "Train X (27,)\n",
      "Train Y (27,)\n",
      "\n",
      "\n",
      "Shape after reshaping:\n",
      "Test X:  (27, 1)\n",
      "Test Y:  (27, 1)\n",
      "\n",
      "\n"
     ]
    }
   ],
   "source": [
    "model = LinearRegression()\n",
    "\n",
    "train_x = xTrain\n",
    "train_y = yTrain\n",
    "print(\"shape before reshaping:\")\n",
    "print(\"Train X\", train_x.shape)\n",
    "print(\"Train Y\",train_y.shape)\n",
    "print (\"\\n\")\n",
    "\n",
    "train_x = np.asarray(train_x).reshape(-1,1)\n",
    "train_y = np.asarray(train_y).reshape(-1,1)\n",
    "print(\"Shape after reshaping:\")\n",
    "print(\"Train X: \", train_x.shape)\n",
    "print(\"Train Y: \", train_y.shape)\n",
    "print(\"\\n\") \n",
    "\n",
    "test_x = xTest\n",
    "test_y = yTest\n",
    "\n",
    "print(\"shape before reshaping:\")\n",
    "print(\"Train X\", test_x.shape)\n",
    "print(\"Train Y\",test_y.shape)\n",
    "print (\"\\n\")\n",
    "\n",
    "test_x = np.asarray(test_x).reshape(-1,1)\n",
    "test_y = np.asarray(test_y).reshape(-1,1)\n",
    "print(\"Shape after reshaping:\")\n",
    "print(\"Test X: \", test_x.shape)\n",
    "print(\"Test Y: \", test_y.shape)\n",
    "print(\"\\n\") "
   ]
  },
  {
   "cell_type": "code",
   "execution_count": 18,
   "metadata": {},
   "outputs": [],
   "source": [
    "reg_model = model.fit(X=train_x, y=train_y)"
   ]
  },
  {
   "cell_type": "code",
   "execution_count": 19,
   "metadata": {},
   "outputs": [
    {
     "data": {
      "text/html": [
       "<div>\n",
       "<style scoped>\n",
       "    .dataframe tbody tr th:only-of-type {\n",
       "        vertical-align: middle;\n",
       "    }\n",
       "\n",
       "    .dataframe tbody tr th {\n",
       "        vertical-align: top;\n",
       "    }\n",
       "\n",
       "    .dataframe thead th {\n",
       "        text-align: right;\n",
       "    }\n",
       "</style>\n",
       "<table border=\"1\" class=\"dataframe\">\n",
       "  <thead>\n",
       "    <tr style=\"text-align: right;\">\n",
       "      <th></th>\n",
       "      <th>Actual</th>\n",
       "      <th>Predicted</th>\n",
       "    </tr>\n",
       "  </thead>\n",
       "  <tbody>\n",
       "    <tr>\n",
       "      <th>0</th>\n",
       "      <td>4042.441041</td>\n",
       "      <td>3706.947776</td>\n",
       "    </tr>\n",
       "    <tr>\n",
       "      <th>1</th>\n",
       "      <td>3913.462030</td>\n",
       "      <td>3783.169531</td>\n",
       "    </tr>\n",
       "    <tr>\n",
       "      <th>2</th>\n",
       "      <td>3779.815519</td>\n",
       "      <td>3852.462034</td>\n",
       "    </tr>\n",
       "    <tr>\n",
       "      <th>3</th>\n",
       "      <td>3955.689423</td>\n",
       "      <td>3905.297568</td>\n",
       "    </tr>\n",
       "    <tr>\n",
       "      <th>4</th>\n",
       "      <td>4227.499673</td>\n",
       "      <td>4047.347201</td>\n",
       "    </tr>\n",
       "  </tbody>\n",
       "</table>\n",
       "</div>"
      ],
      "text/plain": [
       "        Actual    Predicted\n",
       "0  4042.441041  3706.947776\n",
       "1  3913.462030  3783.169531\n",
       "2  3779.815519  3852.462034\n",
       "3  3955.689423  3905.297568\n",
       "4  4227.499673  4047.347201"
      ]
     },
     "execution_count": 19,
     "metadata": {},
     "output_type": "execute_result"
    }
   ],
   "source": [
    "yPredtest = reg_model.predict(test_x)\n",
    "\n",
    "df = pd.DataFrame({'Actual': test_y.flatten(), 'Predicted': yPredtest.flatten()})\n",
    "df.head()"
   ]
  },
  {
   "cell_type": "code",
   "execution_count": 20,
   "metadata": {},
   "outputs": [
    {
     "name": "stdout",
     "output_type": "stream",
     "text": [
      "Mean Squared Error (Train) 31354.008308256183\n",
      "Mean Squared Error (Test) 42839.16356413313\n",
      "Mean Absolute Error (Train) 138.53566226759432\n",
      "Mean Absolute Error (Test) 165.05715254469837\n"
     ]
    }
   ],
   "source": [
    "MSETrain = mean_squared_error(train_y, reg_model.predict(train_x))\n",
    "print(\"Mean Squared Error (Train)\",MSETrain)\n",
    "\n",
    "MSETest = mean_squared_error(test_y, reg_model.predict(test_x))\n",
    "print(\"Mean Squared Error (Test)\",MSETest)\n",
    "\n",
    "MAETrain = mean_absolute_error(train_y,reg_model.predict(train_x))\n",
    "print(\"Mean Absolute Error (Train)\",MAETrain)\n",
    "\n",
    "MAETest = mean_absolute_error(test_y,reg_model.predict(test_x))\n",
    "print(\"Mean Absolute Error (Test)\",MAETest)\n"
   ]
  },
  {
   "cell_type": "code",
   "execution_count": 21,
   "metadata": {},
   "outputs": [
    {
     "data": {
      "text/plain": [
       "<matplotlib.axes._subplots.AxesSubplot at 0x259816f0>"
      ]
     },
     "execution_count": 21,
     "metadata": {},
     "output_type": "execute_result"
    },
    {
     "data": {
      "image/png": "[encoded data removed]",
      "text/plain": [
       "<Figure size 432x288 with 1 Axes>"
      ]
     },
     "metadata": {
      "needs_background": "light"
     },
     "output_type": "display_data"
    }
   ],
   "source": [
    "sns.lineplot(x=test_x.flatten(), y=yPredtest.ravel(), label =\"model\")"
   ]
  },
  {
   "cell_type": "code",
   "execution_count": 22,
   "metadata": {},
   "outputs": [
    {
     "name": "stdout",
     "output_type": "stream",
     "text": [
      "[[0.8661563]]\n",
      "[127.98995902]\n"
     ]
    }
   ],
   "source": [
    "print(reg_model.coef_)\n",
    "print(reg_model.intercept_)"
   ]
  },
  {
   "cell_type": "code",
   "execution_count": 23,
   "metadata": {},
   "outputs": [
    {
     "data": {
      "text/plain": [
       "<matplotlib.axes._subplots.AxesSubplot at 0x5cc7c50>"
      ]
     },
     "execution_count": 23,
     "metadata": {},
     "output_type": "execute_result"
    },
    {
     "data": {
      "image/png": "[encoded data removed]",
      "text/plain": [
       "<Figure size 432x288 with 1 Axes>"
      ]
     },
     "metadata": {
      "needs_background": "light"
     },
     "output_type": "display_data"
    }
   ],
   "source": [
    "sns.scatterplot(x=test_x.flatten(), y=test_y.flatten(), label =\"Test Data\")"
   ]
  },
  {
   "cell_type": "code",
   "execution_count": 24,
   "metadata": {},
   "outputs": [
    {
     "data": {
      "text/html": [
       "<div>\n",
       "<style scoped>\n",
       "    .dataframe tbody tr th:only-of-type {\n",
       "        vertical-align: middle;\n",
       "    }\n",
       "\n",
       "    .dataframe tbody tr th {\n",
       "        vertical-align: top;\n",
       "    }\n",
       "\n",
       "    .dataframe thead th {\n",
       "        text-align: right;\n",
       "    }\n",
       "</style>\n",
       "<table border=\"1\" class=\"dataframe\">\n",
       "  <thead>\n",
       "    <tr style=\"text-align: right;\">\n",
       "      <th></th>\n",
       "      <th>x</th>\n",
       "      <th>y</th>\n",
       "    </tr>\n",
       "  </thead>\n",
       "  <tbody>\n",
       "    <tr>\n",
       "      <th>0</th>\n",
       "      <td>37</td>\n",
       "      <td>488.125953</td>\n",
       "    </tr>\n",
       "    <tr>\n",
       "      <th>1</th>\n",
       "      <td>52</td>\n",
       "      <td>397.451834</td>\n",
       "    </tr>\n",
       "    <tr>\n",
       "      <th>2</th>\n",
       "      <td>109</td>\n",
       "      <td>1154.401700</td>\n",
       "    </tr>\n",
       "    <tr>\n",
       "      <th>3</th>\n",
       "      <td>123</td>\n",
       "      <td>1397.371822</td>\n",
       "    </tr>\n",
       "    <tr>\n",
       "      <th>4</th>\n",
       "      <td>273</td>\n",
       "      <td>4073.927514</td>\n",
       "    </tr>\n",
       "  </tbody>\n",
       "</table>\n",
       "</div>"
      ],
      "text/plain": [
       "     x            y\n",
       "0   37   488.125953\n",
       "1   52   397.451834\n",
       "2  109  1154.401700\n",
       "3  123  1397.371822\n",
       "4  273  4073.927514"
      ]
     },
     "execution_count": 24,
     "metadata": {},
     "output_type": "execute_result"
    }
   ],
   "source": [
    "HardData = pd.read_csv(\"toy_data_harder.csv\").copy()\n",
    "HardData.head()"
   ]
  },
  {
   "cell_type": "code",
   "execution_count": 25,
   "metadata": {},
   "outputs": [],
   "source": [
    "xhard = HardData['x'] #find col x\n",
    "yhard = HardData['y'] #find col y"
   ]
  },
  {
   "cell_type": "code",
   "execution_count": 26,
   "metadata": {},
   "outputs": [],
   "source": [
    "xTrainHard, xTestHard, = train_test_split(xhard, test_size = 0.30, shuffle = False) #70/30 split of the x data\n",
    "yTrainHard, yTestHard, = train_test_split(yhard, test_size = 0.30, shuffle = False) #70/30 split of the y data"
   ]
  },
  {
   "cell_type": "code",
   "execution_count": 27,
   "metadata": {},
   "outputs": [
    {
     "data": {
      "image/png": "[encoded data removed]",
      "text/plain": [
       "<Figure size 432x288 with 1 Axes>"
      ]
     },
     "metadata": {
      "needs_background": "light"
     },
     "output_type": "display_data"
    }
   ],
   "source": [
    "TrainHard = sns.scatterplot(x=xTrainHard, y=yTrainHard) # plot the train split"
   ]
  },
  {
   "cell_type": "code",
   "execution_count": 28,
   "metadata": {},
   "outputs": [
    {
     "data": {
      "image/png": "[encoded data removed]",
      "text/plain": [
       "<Figure size 432x288 with 1 Axes>"
      ]
     },
     "metadata": {
      "needs_background": "light"
     },
     "output_type": "display_data"
    }
   ],
   "source": [
    "TestHard = sns.scatterplot(x=xTestHard, y=yTestHard)#plot the test split"
   ]
  },
  {
   "cell_type": "code",
   "execution_count": 29,
   "metadata": {},
   "outputs": [
    {
     "name": "stdout",
     "output_type": "stream",
     "text": [
      "shape before reshaping:\n",
      "Train X (63,)\n",
      "Train Y (63,)\n",
      "\n",
      "\n",
      "Shape after reshaping:\n",
      "Train X:  (63, 1)\n",
      "Train Y:  (63, 1)\n",
      "\n",
      "\n",
      "shape before reshaping:\n",
      "Train X (27,)\n",
      "Train Y (27,)\n",
      "\n",
      "\n",
      "Shape after reshaping:\n",
      "Test X:  (27, 1)\n",
      "Test Y:  (27, 1)\n",
      "\n",
      "\n"
     ]
    }
   ],
   "source": [
    "modelHard = LinearRegression()\n",
    "\n",
    "train_xHard = xTrainHard\n",
    "train_yHard = yTrainHard\n",
    "print(\"shape before reshaping:\")\n",
    "print(\"Train X\", train_xHard.shape)\n",
    "print(\"Train Y\",train_yHard.shape)\n",
    "print (\"\\n\")\n",
    "\n",
    "train_xHard = np.asarray(train_xHard).reshape(-1,1)\n",
    "train_yHard = np.asarray(train_yHard).reshape(-1,1)\n",
    "print(\"Shape after reshaping:\")\n",
    "print(\"Train X: \", train_xHard.shape)\n",
    "print(\"Train Y: \", train_yHard.shape)\n",
    "print(\"\\n\") \n",
    "\n",
    "test_xHard = xTestHard\n",
    "test_yHard = yTestHard\n",
    "\n",
    "print(\"shape before reshaping:\")\n",
    "print(\"Train X\", test_xHard.shape)\n",
    "print(\"Train Y\",test_yHard.shape)\n",
    "print (\"\\n\")\n",
    "\n",
    "test_xHard = np.asarray(test_xHard).reshape(-1,1)\n",
    "test_yHard = np.asarray(test_yHard).reshape(-1,1)\n",
    "print(\"Shape after reshaping:\")\n",
    "print(\"Test X: \", test_xHard.shape)\n",
    "print(\"Test Y: \", test_yHard.shape)\n",
    "print(\"\\n\") "
   ]
  },
  {
   "cell_type": "code",
   "execution_count": 30,
   "metadata": {},
   "outputs": [],
   "source": [
    "reg_modelHard = model.fit(X=train_xHard, y=train_yHard)"
   ]
  },
  {
   "cell_type": "code",
   "execution_count": 31,
   "metadata": {},
   "outputs": [
    {
     "data": {
      "text/html": [
       "<div>\n",
       "<style scoped>\n",
       "    .dataframe tbody tr th:only-of-type {\n",
       "        vertical-align: middle;\n",
       "    }\n",
       "\n",
       "    .dataframe tbody tr th {\n",
       "        vertical-align: top;\n",
       "    }\n",
       "\n",
       "    .dataframe thead th {\n",
       "        text-align: right;\n",
       "    }\n",
       "</style>\n",
       "<table border=\"1\" class=\"dataframe\">\n",
       "  <thead>\n",
       "    <tr style=\"text-align: right;\">\n",
       "      <th></th>\n",
       "      <th>Actual</th>\n",
       "      <th>Predicted</th>\n",
       "    </tr>\n",
       "  </thead>\n",
       "  <tbody>\n",
       "    <tr>\n",
       "      <th>0</th>\n",
       "      <td>196968.160423</td>\n",
       "      <td>182515.463354</td>\n",
       "    </tr>\n",
       "    <tr>\n",
       "      <th>1</th>\n",
       "      <td>207869.367879</td>\n",
       "      <td>189972.452662</td>\n",
       "    </tr>\n",
       "    <tr>\n",
       "      <th>2</th>\n",
       "      <td>213410.693852</td>\n",
       "      <td>193812.245664</td>\n",
       "    </tr>\n",
       "    <tr>\n",
       "      <th>3</th>\n",
       "      <td>216024.859823</td>\n",
       "      <td>195370.422534</td>\n",
       "    </tr>\n",
       "    <tr>\n",
       "      <th>4</th>\n",
       "      <td>218635.049114</td>\n",
       "      <td>197596.389491</td>\n",
       "    </tr>\n",
       "  </tbody>\n",
       "</table>\n",
       "</div>"
      ],
      "text/plain": [
       "          Actual      Predicted\n",
       "0  196968.160423  182515.463354\n",
       "1  207869.367879  189972.452662\n",
       "2  213410.693852  193812.245664\n",
       "3  216024.859823  195370.422534\n",
       "4  218635.049114  197596.389491"
      ]
     },
     "execution_count": 31,
     "metadata": {},
     "output_type": "execute_result"
    }
   ],
   "source": [
    "yPredtestHard = reg_modelHard.predict(test_xHard)\n",
    "\n",
    "dfHard = pd.DataFrame({'Actual': test_yHard.flatten(), 'Predicted': yPredtestHard.flatten()})\n",
    "dfHard.head()"
   ]
  },
  {
   "cell_type": "code",
   "execution_count": 32,
   "metadata": {},
   "outputs": [
    {
     "name": "stdout",
     "output_type": "stream",
     "text": [
      "Mean Squared Error (Train) 73183154.74070227\n",
      "Mean Squared Error (Test) 42839.16356413313\n",
      "Mean Absolute Error (Train) 7210.571720237118\n",
      "Mean Absolute Error (Test) 58977.559762247874\n"
     ]
    }
   ],
   "source": [
    "MSETrainHard = mean_squared_error(train_yHard, reg_modelHard.predict(train_xHard))\n",
    "print(\"Mean Squared Error (Train)\",MSETrainHard)\n",
    "\n",
    "MSETestHard = mean_squared_error(test_yHard, reg_modelHard.predict(test_xHard))\n",
    "print(\"Mean Squared Error (Test)\",MSETest)\n",
    "\n",
    "MAETrainHard = mean_absolute_error(train_yHard,reg_modelHard.predict(train_xHard))\n",
    "print(\"Mean Absolute Error (Train)\",MAETrainHard)\n",
    "\n",
    "MAETestHard = mean_absolute_error(test_yHard,reg_modelHard.predict(test_xHard))\n",
    "print(\"Mean Absolute Error (Test)\",MAETestHard)\n"
   ]
  },
  {
   "cell_type": "code",
   "execution_count": 33,
   "metadata": {},
   "outputs": [
    {
     "data": {
      "text/plain": [
       "<matplotlib.axes._subplots.AxesSubplot at 0x25acee10>"
      ]
     },
     "execution_count": 33,
     "metadata": {},
     "output_type": "execute_result"
    },
    {
     "data": {
      "image/png": "[encoded data removed]",
      "text/plain": [
       "<Figure size 432x288 with 1 Axes>"
      ]
     },
     "metadata": {
      "needs_background": "light"
     },
     "output_type": "display_data"
    }
   ],
   "source": [
    "sns.lineplot(x=test_xHard.flatten(), y=yPredtestHard.ravel(), label =\"model\")"
   ]
  },
  {
   "cell_type": "code",
   "execution_count": 34,
   "metadata": {},
   "outputs": [
    {
     "name": "stdout",
     "output_type": "stream",
     "text": [
      "[[55.64917394]]\n",
      "[-22996.93600192]\n"
     ]
    }
   ],
   "source": [
    "print(reg_modelHard.coef_)\n",
    "print(reg_modelHard.intercept_)"
   ]
  },
  {
   "cell_type": "code",
   "execution_count": 35,
   "metadata": {},
   "outputs": [
    {
     "data": {
      "text/plain": [
       "<matplotlib.axes._subplots.AxesSubplot at 0x25b17210>"
      ]
     },
     "execution_count": 35,
     "metadata": {},
     "output_type": "execute_result"
    },
    {
     "data": {
      "image/png": "[encoded data removed]",
      "text/plain": [
       "<Figure size 432x288 with 1 Axes>"
      ]
     },
     "metadata": {
      "needs_background": "light"
     },
     "output_type": "display_data"
    }
   ],
   "source": [
    "sns.scatterplot(x=test_xHard.flatten(), y=test_yHard.flatten(), label =\"Test Data\")"
   ]
  },
  {
   "cell_type": "code",
   "execution_count": 36,
   "metadata": {},
   "outputs": [],
   "source": [
    "#rehape HardData so Sklearn understands it\n",
    "whole_x = np.asarray(HardData['x']).reshape(-1,1)\n",
    "whole_y = np.asarray(HardData['y']).reshape(-1,1)"
   ]
  },
  {
   "cell_type": "code",
   "execution_count": 37,
   "metadata": {},
   "outputs": [
    {
     "data": {
      "text/plain": [
       "<bound method Axes.legend of <matplotlib.axes._subplots.AxesSubplot object at 0x25B49D70>>"
      ]
     },
     "execution_count": 37,
     "metadata": {},
     "output_type": "execute_result"
    },
    {
     "data": {
      "image/png": "[encoded data removed]",
      "text/plain": [
       "<Figure size 432x288 with 1 Axes>"
      ]
     },
     "metadata": {
      "needs_background": "light"
     },
     "output_type": "display_data"
    }
   ],
   "source": [
    "fig,ax=plt.subplots()\n",
    "plt.title(\"Scatter Train & Set w/ LinearRegression Line on ALL data [Hard Data]\")\n",
    "\n",
    "#lineplot of our model applied to all our data + test\n",
    "sns.lineplot(x=HardData['x'],y=reg_modelHard.predict(whole_x).ravel(), ax=ax, label='model')\n",
    "\n",
    "#line plot of just training data. Red Data Points\n",
    "sns.scatterplot(x=xTrainHard, y=yTrainHard,ax=ax, c=[[1,0,0]],label = 'Training')\n",
    "\n",
    "#line plot of just testing data. Blue-ish data points\n",
    "sns.scatterplot(x=xTestHard, y=yTestHard,ax=ax, c=[[0,0.2,1]],label = 'Testing')\n",
    "\n",
    "#colour the line plot in black.\n",
    "plt.gca().get_lines()[0].set_color(\"Black\")\n",
    "\n",
    "#show legend\n",
    "ax.legend"
   ]
  },
  {
   "cell_type": "code",
   "execution_count": null,
   "metadata": {},
   "outputs": [],
   "source": []
  }
 ],
 "metadata": {
  "kernelspec": {
   "display_name": "Python 3",
   "language": "python",
   "name": "python3"
  },
  "language_info": {
   "codemirror_mode": {
    "name": "ipython",
    "version": 3
   },
   "file_extension": ".py",
   "mimetype": "text/x-python",
   "name": "python",
   "nbconvert_exporter": "python",
   "pygments_lexer": "ipython3",
   "version": "3.7.4"
  }
 },
 "nbformat": 4,
 "nbformat_minor": 2
}
