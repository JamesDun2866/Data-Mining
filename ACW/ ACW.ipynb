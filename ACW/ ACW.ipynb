{
 "cells": [
  {
   "cell_type": "markdown",
   "metadata": {},
   "source": [
    "# Data Mining ACW - Risk Classification"
   ]
  },
  {
   "cell_type": "markdown",
   "metadata": {},
   "source": [
    "### Imports"
   ]
  },
  {
   "cell_type": "markdown",
   "metadata": {},
   "source": [
    "Libraries are imported here, key libraries include Pandas for data frames and seaborn for visualisation"
   ]
  },
  {
   "cell_type": "code",
   "execution_count": 1,
   "metadata": {},
   "outputs": [],
   "source": [
    "import pandas as pd\n",
    "import matplotlib.pyplot as plt\n",
    "import seaborn as sns\n",
    "from sklearn import preprocessing\n",
    "from sklearn.model_selection import train_test_split"
   ]
  },
  {
   "cell_type": "markdown",
   "metadata": {},
   "source": [
    "# Data Prepration"
   ]
  },
  {
   "cell_type": "markdown",
   "metadata": {},
   "source": [
    "## Data Cleaning"
   ]
  },
  {
   "cell_type": "markdown",
   "metadata": {},
   "source": [
    "##### Import data"
   ]
  },
  {
   "cell_type": "code",
   "execution_count": 2,
   "metadata": {},
   "outputs": [
    {
     "data": {
      "text/html": [
       "<div>\n",
       "<style scoped>\n",
       "    .dataframe tbody tr th:only-of-type {\n",
       "        vertical-align: middle;\n",
       "    }\n",
       "\n",
       "    .dataframe tbody tr th {\n",
       "        vertical-align: top;\n",
       "    }\n",
       "\n",
       "    .dataframe thead th {\n",
       "        text-align: right;\n",
       "    }\n",
       "</style>\n",
       "<table border=\"1\" class=\"dataframe\">\n",
       "  <thead>\n",
       "    <tr style=\"text-align: right;\">\n",
       "      <th></th>\n",
       "      <th>Random</th>\n",
       "      <th>Id</th>\n",
       "      <th>Indication</th>\n",
       "      <th>Diabetes</th>\n",
       "      <th>IHD</th>\n",
       "      <th>Hypertension</th>\n",
       "      <th>Arrhythmia</th>\n",
       "      <th>History</th>\n",
       "      <th>IPSI</th>\n",
       "      <th>Contra</th>\n",
       "      <th>label</th>\n",
       "    </tr>\n",
       "  </thead>\n",
       "  <tbody>\n",
       "    <tr>\n",
       "      <th>0</th>\n",
       "      <td>0.602437</td>\n",
       "      <td>218242</td>\n",
       "      <td>A-F</td>\n",
       "      <td>no</td>\n",
       "      <td>no</td>\n",
       "      <td>yes</td>\n",
       "      <td>no</td>\n",
       "      <td>no</td>\n",
       "      <td>78.0</td>\n",
       "      <td>20</td>\n",
       "      <td>NoRisk</td>\n",
       "    </tr>\n",
       "    <tr>\n",
       "      <th>1</th>\n",
       "      <td>0.602437</td>\n",
       "      <td>159284</td>\n",
       "      <td>TIA</td>\n",
       "      <td>no</td>\n",
       "      <td>no</td>\n",
       "      <td>no</td>\n",
       "      <td>no</td>\n",
       "      <td>no</td>\n",
       "      <td>70.0</td>\n",
       "      <td>60</td>\n",
       "      <td>NoRisk</td>\n",
       "    </tr>\n",
       "    <tr>\n",
       "      <th>2</th>\n",
       "      <td>0.602437</td>\n",
       "      <td>106066</td>\n",
       "      <td>A-F</td>\n",
       "      <td>no</td>\n",
       "      <td>yes</td>\n",
       "      <td>yes</td>\n",
       "      <td>no</td>\n",
       "      <td>no</td>\n",
       "      <td>95.0</td>\n",
       "      <td>40</td>\n",
       "      <td>Risk</td>\n",
       "    </tr>\n",
       "    <tr>\n",
       "      <th>3</th>\n",
       "      <td>0.128157</td>\n",
       "      <td>229592</td>\n",
       "      <td>TIA</td>\n",
       "      <td>no</td>\n",
       "      <td>no</td>\n",
       "      <td>yes</td>\n",
       "      <td>no</td>\n",
       "      <td>no</td>\n",
       "      <td>90.0</td>\n",
       "      <td>85</td>\n",
       "      <td>Risk</td>\n",
       "    </tr>\n",
       "    <tr>\n",
       "      <th>4</th>\n",
       "      <td>0.676862</td>\n",
       "      <td>245829</td>\n",
       "      <td>CVA</td>\n",
       "      <td>no</td>\n",
       "      <td>no</td>\n",
       "      <td>no</td>\n",
       "      <td>no</td>\n",
       "      <td>no</td>\n",
       "      <td>70.0</td>\n",
       "      <td>20</td>\n",
       "      <td>NoRisk</td>\n",
       "    </tr>\n",
       "  </tbody>\n",
       "</table>\n",
       "</div>"
      ],
      "text/plain": [
       "     Random      Id Indication Diabetes  IHD Hypertension Arrhythmia History  \\\n",
       "0  0.602437  218242        A-F       no   no          yes         no      no   \n",
       "1  0.602437  159284        TIA       no   no           no         no      no   \n",
       "2  0.602437  106066        A-F       no  yes          yes         no      no   \n",
       "3  0.128157  229592        TIA       no   no          yes         no      no   \n",
       "4  0.676862  245829        CVA       no   no           no         no      no   \n",
       "\n",
       "   IPSI Contra   label  \n",
       "0  78.0    20   NoRisk  \n",
       "1  70.0    60   NoRisk  \n",
       "2  95.0     40    Risk  \n",
       "3  90.0     85    Risk  \n",
       "4  70.0    20   NoRisk  "
      ]
     },
     "execution_count": 2,
     "metadata": {},
     "output_type": "execute_result"
    }
   ],
   "source": [
    "MedicalRecords = pd.read_csv(\"600092_data.csv\").copy() # Importing csv\n",
    "MedicalRecordsWorkingCopy = MedicalRecords.copy()\n",
    "\n",
    "MedicalRecordsWorkingCopy.head()"
   ]
  },
  {
   "cell_type": "markdown",
   "metadata": {},
   "source": [
    "##### Check for Null Values"
   ]
  },
  {
   "cell_type": "markdown",
   "metadata": {},
   "source": [
    "Null values are dropped as the percentage of the data that they affect are very low and if this data is imputed it may affect the accuracy of the data models later on in the modeling stage. In this stage some inconsistencies with medical terms affected the data integrity so have been merged.\n",
    "\n",
    "Find all values and compare against data description"
   ]
  },
  {
   "cell_type": "code",
   "execution_count": 3,
   "metadata": {},
   "outputs": [
    {
     "name": "stdout",
     "output_type": "stream",
     "text": [
      "Values of Random are: [0.60243709 0.12815663 0.6768621  ... 0.62037252 0.63934177 0.6349223 ] \n",
      "\n",
      "Values of Id are: [218242 159284 106066 ... 101754 263836 254941] \n",
      "\n",
      "Values of Indication are: ['A-F' 'TIA' 'CVA' 'ASx' 'Asx' nan] \n",
      "\n",
      "Values of IHD are: ['no' 'yes'] \n",
      "\n",
      "Values of Arrhythmia are: ['no' 'yes'] \n",
      "\n",
      "Values of History are: ['no' 'yes' nan] \n",
      "\n",
      "Values of IPSI are: [78. 70. 95. 90. 75. 81. 80. 76. 82. 85. 68. 50. 73. 99. 71. 65. 74. 98.\n",
      " 97. 60. 67. 79. 77. 84. 55. 35. 51. nan 69. 72.] \n",
      "\n",
      "Values of Contra are: ['20 ' '60 ' '40' '85' '95' '100' '50' '50 ' '30 ' '40 ' '80' '25 ' '75 '\n",
      " '10 ' '70 ' '15 ' '75' '35 ' '30' '80 ' '55 ' '100 ' '90' '85 ' '79'\n",
      " '45 ' '65 ' '90 ' '62' '53' '51 ' '70' '60' '35' '55' '16 ' '73 ' ' '\n",
      " '10' '20' '65'] \n",
      "\n",
      "Values of label are: ['NoRisk' 'Risk' 'Unknown' nan] \n",
      "\n"
     ]
    }
   ],
   "source": [
    "print(\"Values of Random are:\",MedicalRecordsWorkingCopy['Random'].unique(),\"\\n\")\n",
    "print(\"Values of Id are:\",MedicalRecordsWorkingCopy['Id'].unique(),\"\\n\")\n",
    "print(\"Values of Indication are:\",MedicalRecordsWorkingCopy['Indication'].unique(),\"\\n\")\n",
    "print(\"Values of IHD are:\",MedicalRecordsWorkingCopy['IHD'].unique(),\"\\n\")\n",
    "print(\"Values of Arrhythmia are:\",MedicalRecordsWorkingCopy['Arrhythmia'].unique(),\"\\n\")\n",
    "print(\"Values of History are:\",MedicalRecordsWorkingCopy['History'].unique(),\"\\n\")\n",
    "print(\"Values of IPSI are:\",MedicalRecordsWorkingCopy['IPSI'].unique(),\"\\n\")\n",
    "print(\"Values of Contra are:\",MedicalRecordsWorkingCopy['Contra'].unique(),\"\\n\")\n",
    "print(\"Values of label are:\",MedicalRecordsWorkingCopy['label'].unique(),\"\\n\")"
   ]
  },
  {
   "cell_type": "code",
   "execution_count": 4,
   "metadata": {},
   "outputs": [
    {
     "data": {
      "text/html": [
       "<div>\n",
       "<style scoped>\n",
       "    .dataframe tbody tr th:only-of-type {\n",
       "        vertical-align: middle;\n",
       "    }\n",
       "\n",
       "    .dataframe tbody tr th {\n",
       "        vertical-align: top;\n",
       "    }\n",
       "\n",
       "    .dataframe thead th {\n",
       "        text-align: right;\n",
       "    }\n",
       "</style>\n",
       "<table border=\"1\" class=\"dataframe\">\n",
       "  <thead>\n",
       "    <tr style=\"text-align: right;\">\n",
       "      <th></th>\n",
       "      <th>Random</th>\n",
       "      <th>Id</th>\n",
       "      <th>Indication</th>\n",
       "      <th>Diabetes</th>\n",
       "      <th>IHD</th>\n",
       "      <th>Hypertension</th>\n",
       "      <th>Arrhythmia</th>\n",
       "      <th>History</th>\n",
       "      <th>IPSI</th>\n",
       "      <th>Contra</th>\n",
       "      <th>label</th>\n",
       "    </tr>\n",
       "  </thead>\n",
       "  <tbody>\n",
       "    <tr>\n",
       "      <th>442</th>\n",
       "      <td>0.648122</td>\n",
       "      <td>261060</td>\n",
       "      <td>NaN</td>\n",
       "      <td>no</td>\n",
       "      <td>yes</td>\n",
       "      <td>yes</td>\n",
       "      <td>no</td>\n",
       "      <td>no</td>\n",
       "      <td>70.0</td>\n",
       "      <td>40</td>\n",
       "      <td>NoRisk</td>\n",
       "    </tr>\n",
       "    <tr>\n",
       "      <th>822</th>\n",
       "      <td>0.211760</td>\n",
       "      <td>205845</td>\n",
       "      <td>NaN</td>\n",
       "      <td>no</td>\n",
       "      <td>yes</td>\n",
       "      <td>no</td>\n",
       "      <td>no</td>\n",
       "      <td>no</td>\n",
       "      <td>80.0</td>\n",
       "      <td>100</td>\n",
       "      <td>Risk</td>\n",
       "    </tr>\n",
       "    <tr>\n",
       "      <th>1007</th>\n",
       "      <td>0.761219</td>\n",
       "      <td>256076</td>\n",
       "      <td>NaN</td>\n",
       "      <td>no</td>\n",
       "      <td>no</td>\n",
       "      <td>no</td>\n",
       "      <td>yes</td>\n",
       "      <td>yes</td>\n",
       "      <td>99.0</td>\n",
       "      <td>100</td>\n",
       "      <td>Risk</td>\n",
       "    </tr>\n",
       "  </tbody>\n",
       "</table>\n",
       "</div>"
      ],
      "text/plain": [
       "        Random      Id Indication Diabetes  IHD Hypertension Arrhythmia  \\\n",
       "442   0.648122  261060        NaN       no  yes          yes         no   \n",
       "822   0.211760  205845        NaN       no  yes           no         no   \n",
       "1007  0.761219  256076        NaN       no   no           no        yes   \n",
       "\n",
       "     History  IPSI Contra   label  \n",
       "442       no  70.0     40  NoRisk  \n",
       "822       no  80.0    100    Risk  \n",
       "1007     yes  99.0    100    Risk  "
      ]
     },
     "execution_count": 4,
     "metadata": {},
     "output_type": "execute_result"
    }
   ],
   "source": [
    "MedicalRecordsWorkingCopy[MedicalRecordsWorkingCopy['Indication'].isnull()] #3 Null Values in Indication"
   ]
  },
  {
   "cell_type": "code",
   "execution_count": 5,
   "metadata": {},
   "outputs": [
    {
     "data": {
      "text/html": [
       "<div>\n",
       "<style scoped>\n",
       "    .dataframe tbody tr th:only-of-type {\n",
       "        vertical-align: middle;\n",
       "    }\n",
       "\n",
       "    .dataframe tbody tr th {\n",
       "        vertical-align: top;\n",
       "    }\n",
       "\n",
       "    .dataframe thead th {\n",
       "        text-align: right;\n",
       "    }\n",
       "</style>\n",
       "<table border=\"1\" class=\"dataframe\">\n",
       "  <thead>\n",
       "    <tr style=\"text-align: right;\">\n",
       "      <th></th>\n",
       "      <th>Random</th>\n",
       "      <th>Id</th>\n",
       "      <th>Indication</th>\n",
       "      <th>Diabetes</th>\n",
       "      <th>IHD</th>\n",
       "      <th>Hypertension</th>\n",
       "      <th>Arrhythmia</th>\n",
       "      <th>History</th>\n",
       "      <th>IPSI</th>\n",
       "      <th>Contra</th>\n",
       "      <th>label</th>\n",
       "    </tr>\n",
       "  </thead>\n",
       "  <tbody>\n",
       "    <tr>\n",
       "      <th>447</th>\n",
       "      <td>0.681744</td>\n",
       "      <td>224257</td>\n",
       "      <td>CVA</td>\n",
       "      <td>NaN</td>\n",
       "      <td>yes</td>\n",
       "      <td>yes</td>\n",
       "      <td>yes</td>\n",
       "      <td>no</td>\n",
       "      <td>90.0</td>\n",
       "      <td>100</td>\n",
       "      <td>Risk</td>\n",
       "    </tr>\n",
       "    <tr>\n",
       "      <th>514</th>\n",
       "      <td>0.392130</td>\n",
       "      <td>210861</td>\n",
       "      <td>A-F</td>\n",
       "      <td>NaN</td>\n",
       "      <td>no</td>\n",
       "      <td>yes</td>\n",
       "      <td>no</td>\n",
       "      <td>no</td>\n",
       "      <td>80.0</td>\n",
       "      <td>40</td>\n",
       "      <td>NoRisk</td>\n",
       "    </tr>\n",
       "  </tbody>\n",
       "</table>\n",
       "</div>"
      ],
      "text/plain": [
       "       Random      Id Indication Diabetes  IHD Hypertension Arrhythmia  \\\n",
       "447  0.681744  224257        CVA      NaN  yes          yes        yes   \n",
       "514  0.392130  210861        A-F      NaN   no          yes         no   \n",
       "\n",
       "    History  IPSI Contra   label  \n",
       "447      no  90.0    100    Risk  \n",
       "514      no  80.0     40  NoRisk  "
      ]
     },
     "execution_count": 5,
     "metadata": {},
     "output_type": "execute_result"
    }
   ],
   "source": [
    "MedicalRecordsWorkingCopy[MedicalRecordsWorkingCopy['Diabetes'].isnull()] #2 Null Values in Diabetes"
   ]
  },
  {
   "cell_type": "code",
   "execution_count": 6,
   "metadata": {},
   "outputs": [
    {
     "data": {
      "text/html": [
       "<div>\n",
       "<style scoped>\n",
       "    .dataframe tbody tr th:only-of-type {\n",
       "        vertical-align: middle;\n",
       "    }\n",
       "\n",
       "    .dataframe tbody tr th {\n",
       "        vertical-align: top;\n",
       "    }\n",
       "\n",
       "    .dataframe thead th {\n",
       "        text-align: right;\n",
       "    }\n",
       "</style>\n",
       "<table border=\"1\" class=\"dataframe\">\n",
       "  <thead>\n",
       "    <tr style=\"text-align: right;\">\n",
       "      <th></th>\n",
       "      <th>Random</th>\n",
       "      <th>Id</th>\n",
       "      <th>Indication</th>\n",
       "      <th>Diabetes</th>\n",
       "      <th>IHD</th>\n",
       "      <th>Hypertension</th>\n",
       "      <th>Arrhythmia</th>\n",
       "      <th>History</th>\n",
       "      <th>IPSI</th>\n",
       "      <th>Contra</th>\n",
       "      <th>label</th>\n",
       "    </tr>\n",
       "  </thead>\n",
       "  <tbody>\n",
       "    <tr>\n",
       "      <th>201</th>\n",
       "      <td>0.388790</td>\n",
       "      <td>240232</td>\n",
       "      <td>CVA</td>\n",
       "      <td>yes</td>\n",
       "      <td>no</td>\n",
       "      <td>NaN</td>\n",
       "      <td>yes</td>\n",
       "      <td>no</td>\n",
       "      <td>95.0</td>\n",
       "      <td>90</td>\n",
       "      <td>Risk</td>\n",
       "    </tr>\n",
       "    <tr>\n",
       "      <th>590</th>\n",
       "      <td>0.707950</td>\n",
       "      <td>289096</td>\n",
       "      <td>A-F</td>\n",
       "      <td>no</td>\n",
       "      <td>no</td>\n",
       "      <td>NaN</td>\n",
       "      <td>no</td>\n",
       "      <td>no</td>\n",
       "      <td>78.0</td>\n",
       "      <td>30</td>\n",
       "      <td>NoRisk</td>\n",
       "    </tr>\n",
       "    <tr>\n",
       "      <th>983</th>\n",
       "      <td>0.319215</td>\n",
       "      <td>158024</td>\n",
       "      <td>TIA</td>\n",
       "      <td>no</td>\n",
       "      <td>no</td>\n",
       "      <td>NaN</td>\n",
       "      <td>no</td>\n",
       "      <td>no</td>\n",
       "      <td>75.0</td>\n",
       "      <td>75</td>\n",
       "      <td>NoRisk</td>\n",
       "    </tr>\n",
       "  </tbody>\n",
       "</table>\n",
       "</div>"
      ],
      "text/plain": [
       "       Random      Id Indication Diabetes IHD Hypertension Arrhythmia History  \\\n",
       "201  0.388790  240232        CVA      yes  no          NaN        yes      no   \n",
       "590  0.707950  289096        A-F       no  no          NaN         no      no   \n",
       "983  0.319215  158024        TIA       no  no          NaN         no      no   \n",
       "\n",
       "     IPSI Contra   label  \n",
       "201  95.0     90    Risk  \n",
       "590  78.0     30  NoRisk  \n",
       "983  75.0     75  NoRisk  "
      ]
     },
     "execution_count": 6,
     "metadata": {},
     "output_type": "execute_result"
    }
   ],
   "source": [
    "MedicalRecordsWorkingCopy[MedicalRecordsWorkingCopy['Hypertension'].isnull()] # 3 Null values in Hypertension"
   ]
  },
  {
   "cell_type": "code",
   "execution_count": 7,
   "metadata": {},
   "outputs": [
    {
     "data": {
      "text/html": [
       "<div>\n",
       "<style scoped>\n",
       "    .dataframe tbody tr th:only-of-type {\n",
       "        vertical-align: middle;\n",
       "    }\n",
       "\n",
       "    .dataframe tbody tr th {\n",
       "        vertical-align: top;\n",
       "    }\n",
       "\n",
       "    .dataframe thead th {\n",
       "        text-align: right;\n",
       "    }\n",
       "</style>\n",
       "<table border=\"1\" class=\"dataframe\">\n",
       "  <thead>\n",
       "    <tr style=\"text-align: right;\">\n",
       "      <th></th>\n",
       "      <th>Random</th>\n",
       "      <th>Id</th>\n",
       "      <th>Indication</th>\n",
       "      <th>Diabetes</th>\n",
       "      <th>IHD</th>\n",
       "      <th>Hypertension</th>\n",
       "      <th>Arrhythmia</th>\n",
       "      <th>History</th>\n",
       "      <th>IPSI</th>\n",
       "      <th>Contra</th>\n",
       "      <th>label</th>\n",
       "    </tr>\n",
       "  </thead>\n",
       "  <tbody>\n",
       "    <tr>\n",
       "      <th>337</th>\n",
       "      <td>0.617072</td>\n",
       "      <td>260770</td>\n",
       "      <td>CVA</td>\n",
       "      <td>no</td>\n",
       "      <td>yes</td>\n",
       "      <td>no</td>\n",
       "      <td>no</td>\n",
       "      <td>NaN</td>\n",
       "      <td>85.0</td>\n",
       "      <td>50</td>\n",
       "      <td>NoRisk</td>\n",
       "    </tr>\n",
       "    <tr>\n",
       "      <th>784</th>\n",
       "      <td>0.243645</td>\n",
       "      <td>196483</td>\n",
       "      <td>CVA</td>\n",
       "      <td>no</td>\n",
       "      <td>no</td>\n",
       "      <td>yes</td>\n",
       "      <td>yes</td>\n",
       "      <td>NaN</td>\n",
       "      <td>95.0</td>\n",
       "      <td>100</td>\n",
       "      <td>Risk</td>\n",
       "    </tr>\n",
       "  </tbody>\n",
       "</table>\n",
       "</div>"
      ],
      "text/plain": [
       "       Random      Id Indication Diabetes  IHD Hypertension Arrhythmia  \\\n",
       "337  0.617072  260770        CVA       no  yes           no         no   \n",
       "784  0.243645  196483        CVA       no   no          yes        yes   \n",
       "\n",
       "    History  IPSI Contra   label  \n",
       "337     NaN  85.0     50  NoRisk  \n",
       "784     NaN  95.0    100    Risk  "
      ]
     },
     "execution_count": 7,
     "metadata": {},
     "output_type": "execute_result"
    }
   ],
   "source": [
    "MedicalRecordsWorkingCopy[MedicalRecordsWorkingCopy['History'].isnull()] #2 Null Values in History"
   ]
  },
  {
   "cell_type": "code",
   "execution_count": 8,
   "metadata": {},
   "outputs": [
    {
     "data": {
      "text/html": [
       "<div>\n",
       "<style scoped>\n",
       "    .dataframe tbody tr th:only-of-type {\n",
       "        vertical-align: middle;\n",
       "    }\n",
       "\n",
       "    .dataframe tbody tr th {\n",
       "        vertical-align: top;\n",
       "    }\n",
       "\n",
       "    .dataframe thead th {\n",
       "        text-align: right;\n",
       "    }\n",
       "</style>\n",
       "<table border=\"1\" class=\"dataframe\">\n",
       "  <thead>\n",
       "    <tr style=\"text-align: right;\">\n",
       "      <th></th>\n",
       "      <th>Random</th>\n",
       "      <th>Id</th>\n",
       "      <th>Indication</th>\n",
       "      <th>Diabetes</th>\n",
       "      <th>IHD</th>\n",
       "      <th>Hypertension</th>\n",
       "      <th>Arrhythmia</th>\n",
       "      <th>History</th>\n",
       "      <th>IPSI</th>\n",
       "      <th>Contra</th>\n",
       "      <th>label</th>\n",
       "    </tr>\n",
       "  </thead>\n",
       "  <tbody>\n",
       "    <tr>\n",
       "      <th>620</th>\n",
       "      <td>0.283872</td>\n",
       "      <td>227779</td>\n",
       "      <td>A-F</td>\n",
       "      <td>no</td>\n",
       "      <td>no</td>\n",
       "      <td>no</td>\n",
       "      <td>no</td>\n",
       "      <td>no</td>\n",
       "      <td>NaN</td>\n",
       "      <td>100</td>\n",
       "      <td>Risk</td>\n",
       "    </tr>\n",
       "    <tr>\n",
       "      <th>752</th>\n",
       "      <td>0.243518</td>\n",
       "      <td>146415</td>\n",
       "      <td>CVA</td>\n",
       "      <td>no</td>\n",
       "      <td>yes</td>\n",
       "      <td>yes</td>\n",
       "      <td>yes</td>\n",
       "      <td>no</td>\n",
       "      <td>NaN</td>\n",
       "      <td>100</td>\n",
       "      <td>Risk</td>\n",
       "    </tr>\n",
       "    <tr>\n",
       "      <th>845</th>\n",
       "      <td>0.920096</td>\n",
       "      <td>104176</td>\n",
       "      <td>CVA</td>\n",
       "      <td>no</td>\n",
       "      <td>no</td>\n",
       "      <td>no</td>\n",
       "      <td>no</td>\n",
       "      <td>no</td>\n",
       "      <td>NaN</td>\n",
       "      <td>20</td>\n",
       "      <td>NoRisk</td>\n",
       "    </tr>\n",
       "    <tr>\n",
       "      <th>916</th>\n",
       "      <td>0.004501</td>\n",
       "      <td>281679</td>\n",
       "      <td>A-F</td>\n",
       "      <td>no</td>\n",
       "      <td>no</td>\n",
       "      <td>no</td>\n",
       "      <td>no</td>\n",
       "      <td>no</td>\n",
       "      <td>NaN</td>\n",
       "      <td>50</td>\n",
       "      <td>NoRisk</td>\n",
       "    </tr>\n",
       "  </tbody>\n",
       "</table>\n",
       "</div>"
      ],
      "text/plain": [
       "       Random      Id Indication Diabetes  IHD Hypertension Arrhythmia  \\\n",
       "620  0.283872  227779        A-F       no   no           no         no   \n",
       "752  0.243518  146415        CVA       no  yes          yes        yes   \n",
       "845  0.920096  104176        CVA       no   no           no         no   \n",
       "916  0.004501  281679        A-F       no   no           no         no   \n",
       "\n",
       "    History  IPSI Contra   label  \n",
       "620      no   NaN    100    Risk  \n",
       "752      no   NaN    100    Risk  \n",
       "845      no   NaN     20  NoRisk  \n",
       "916      no   NaN     50  NoRisk  "
      ]
     },
     "execution_count": 8,
     "metadata": {},
     "output_type": "execute_result"
    }
   ],
   "source": [
    "MedicalRecordsWorkingCopy[MedicalRecordsWorkingCopy['IPSI'].isnull()] #4 Null values in ISPI"
   ]
  },
  {
   "cell_type": "code",
   "execution_count": 9,
   "metadata": {},
   "outputs": [
    {
     "data": {
      "text/html": [
       "<div>\n",
       "<style scoped>\n",
       "    .dataframe tbody tr th:only-of-type {\n",
       "        vertical-align: middle;\n",
       "    }\n",
       "\n",
       "    .dataframe tbody tr th {\n",
       "        vertical-align: top;\n",
       "    }\n",
       "\n",
       "    .dataframe thead th {\n",
       "        text-align: right;\n",
       "    }\n",
       "</style>\n",
       "<table border=\"1\" class=\"dataframe\">\n",
       "  <thead>\n",
       "    <tr style=\"text-align: right;\">\n",
       "      <th></th>\n",
       "      <th>Random</th>\n",
       "      <th>Id</th>\n",
       "      <th>Indication</th>\n",
       "      <th>Diabetes</th>\n",
       "      <th>IHD</th>\n",
       "      <th>Hypertension</th>\n",
       "      <th>Arrhythmia</th>\n",
       "      <th>History</th>\n",
       "      <th>IPSI</th>\n",
       "      <th>Contra</th>\n",
       "      <th>label</th>\n",
       "    </tr>\n",
       "  </thead>\n",
       "  <tbody>\n",
       "    <tr>\n",
       "      <th>812</th>\n",
       "      <td>0.756938</td>\n",
       "      <td>190671</td>\n",
       "      <td>CVA</td>\n",
       "      <td>no</td>\n",
       "      <td>yes</td>\n",
       "      <td>yes</td>\n",
       "      <td>no</td>\n",
       "      <td>no</td>\n",
       "      <td>76.0</td>\n",
       "      <td>50</td>\n",
       "      <td>NaN</td>\n",
       "    </tr>\n",
       "    <tr>\n",
       "      <th>974</th>\n",
       "      <td>0.923418</td>\n",
       "      <td>165432</td>\n",
       "      <td>CVA</td>\n",
       "      <td>no</td>\n",
       "      <td>yes</td>\n",
       "      <td>yes</td>\n",
       "      <td>yes</td>\n",
       "      <td>no</td>\n",
       "      <td>80.0</td>\n",
       "      <td>70</td>\n",
       "      <td>NaN</td>\n",
       "    </tr>\n",
       "    <tr>\n",
       "      <th>1418</th>\n",
       "      <td>0.813102</td>\n",
       "      <td>169726</td>\n",
       "      <td>TIA</td>\n",
       "      <td>yes</td>\n",
       "      <td>no</td>\n",
       "      <td>no</td>\n",
       "      <td>no</td>\n",
       "      <td>yes</td>\n",
       "      <td>90.0</td>\n",
       "      <td>50</td>\n",
       "      <td>NaN</td>\n",
       "    </tr>\n",
       "  </tbody>\n",
       "</table>\n",
       "</div>"
      ],
      "text/plain": [
       "        Random      Id Indication Diabetes  IHD Hypertension Arrhythmia  \\\n",
       "812   0.756938  190671        CVA       no  yes          yes         no   \n",
       "974   0.923418  165432        CVA       no  yes          yes        yes   \n",
       "1418  0.813102  169726        TIA      yes   no           no         no   \n",
       "\n",
       "     History  IPSI Contra label  \n",
       "812       no  76.0     50   NaN  \n",
       "974       no  80.0     70   NaN  \n",
       "1418     yes  90.0     50   NaN  "
      ]
     },
     "execution_count": 9,
     "metadata": {},
     "output_type": "execute_result"
    }
   ],
   "source": [
    "MedicalRecordsWorkingCopy[MedicalRecordsWorkingCopy['label'].isnull()] #3 Null Values in Label"
   ]
  },
  {
   "cell_type": "markdown",
   "metadata": {},
   "source": [
    "Find any Unknown Values as Unknown Values are Essentially the same as Null, the data description provided states there should only be Risk and NoRisk"
   ]
  },
  {
   "cell_type": "code",
   "execution_count": 10,
   "metadata": {},
   "outputs": [
    {
     "data": {
      "text/html": [
       "<div>\n",
       "<style scoped>\n",
       "    .dataframe tbody tr th:only-of-type {\n",
       "        vertical-align: middle;\n",
       "    }\n",
       "\n",
       "    .dataframe tbody tr th {\n",
       "        vertical-align: top;\n",
       "    }\n",
       "\n",
       "    .dataframe thead th {\n",
       "        text-align: right;\n",
       "    }\n",
       "</style>\n",
       "<table border=\"1\" class=\"dataframe\">\n",
       "  <thead>\n",
       "    <tr style=\"text-align: right;\">\n",
       "      <th></th>\n",
       "      <th>Random</th>\n",
       "      <th>Id</th>\n",
       "      <th>Indication</th>\n",
       "      <th>Diabetes</th>\n",
       "      <th>IHD</th>\n",
       "      <th>Hypertension</th>\n",
       "      <th>Arrhythmia</th>\n",
       "      <th>History</th>\n",
       "      <th>IPSI</th>\n",
       "      <th>Contra</th>\n",
       "      <th>label</th>\n",
       "    </tr>\n",
       "  </thead>\n",
       "  <tbody>\n",
       "    <tr>\n",
       "      <th>475</th>\n",
       "      <td>0.298074</td>\n",
       "      <td>173791</td>\n",
       "      <td>ASx</td>\n",
       "      <td>no</td>\n",
       "      <td>yes</td>\n",
       "      <td>yes</td>\n",
       "      <td>no</td>\n",
       "      <td>no</td>\n",
       "      <td>70.0</td>\n",
       "      <td>55</td>\n",
       "      <td>Unknown</td>\n",
       "    </tr>\n",
       "    <tr>\n",
       "      <th>523</th>\n",
       "      <td>0.460170</td>\n",
       "      <td>283846</td>\n",
       "      <td>CVA</td>\n",
       "      <td>no</td>\n",
       "      <td>no</td>\n",
       "      <td>yes</td>\n",
       "      <td>yes</td>\n",
       "      <td>no</td>\n",
       "      <td>95.0</td>\n",
       "      <td>100</td>\n",
       "      <td>Unknown</td>\n",
       "    </tr>\n",
       "  </tbody>\n",
       "</table>\n",
       "</div>"
      ],
      "text/plain": [
       "       Random      Id Indication Diabetes  IHD Hypertension Arrhythmia  \\\n",
       "475  0.298074  173791        ASx       no  yes          yes         no   \n",
       "523  0.460170  283846        CVA       no   no          yes        yes   \n",
       "\n",
       "    History  IPSI Contra    label  \n",
       "475      no  70.0     55  Unknown  \n",
       "523      no  95.0    100  Unknown  "
      ]
     },
     "execution_count": 10,
     "metadata": {},
     "output_type": "execute_result"
    }
   ],
   "source": [
    "MedicalRecordsWorkingCopy[MedicalRecordsWorkingCopy['label']==\"Unknown\"] #2 Values Wrong"
   ]
  },
  {
   "cell_type": "code",
   "execution_count": 11,
   "metadata": {},
   "outputs": [
    {
     "data": {
      "text/html": [
       "<div>\n",
       "<style scoped>\n",
       "    .dataframe tbody tr th:only-of-type {\n",
       "        vertical-align: middle;\n",
       "    }\n",
       "\n",
       "    .dataframe tbody tr th {\n",
       "        vertical-align: top;\n",
       "    }\n",
       "\n",
       "    .dataframe thead th {\n",
       "        text-align: right;\n",
       "    }\n",
       "</style>\n",
       "<table border=\"1\" class=\"dataframe\">\n",
       "  <thead>\n",
       "    <tr style=\"text-align: right;\">\n",
       "      <th></th>\n",
       "      <th>Random</th>\n",
       "      <th>Id</th>\n",
       "      <th>Indication</th>\n",
       "      <th>Diabetes</th>\n",
       "      <th>IHD</th>\n",
       "      <th>Hypertension</th>\n",
       "      <th>Arrhythmia</th>\n",
       "      <th>History</th>\n",
       "      <th>IPSI</th>\n",
       "      <th>Contra</th>\n",
       "      <th>label</th>\n",
       "    </tr>\n",
       "  </thead>\n",
       "  <tbody>\n",
       "    <tr>\n",
       "      <th>453</th>\n",
       "      <td>0.518558</td>\n",
       "      <td>254469</td>\n",
       "      <td>ASx</td>\n",
       "      <td>no</td>\n",
       "      <td>no</td>\n",
       "      <td>yes</td>\n",
       "      <td>no</td>\n",
       "      <td>no</td>\n",
       "      <td>70.0</td>\n",
       "      <td></td>\n",
       "      <td>NoRisk</td>\n",
       "    </tr>\n",
       "  </tbody>\n",
       "</table>\n",
       "</div>"
      ],
      "text/plain": [
       "       Random      Id Indication Diabetes IHD Hypertension Arrhythmia History  \\\n",
       "453  0.518558  254469        ASx       no  no          yes         no      no   \n",
       "\n",
       "     IPSI Contra   label  \n",
       "453  70.0         NoRisk  "
      ]
     },
     "execution_count": 11,
     "metadata": {},
     "output_type": "execute_result"
    }
   ],
   "source": [
    "MedicalRecordsWorkingCopy[MedicalRecordsWorkingCopy['Contra'] == \" \"] #1 Value Wrong"
   ]
  },
  {
   "cell_type": "markdown",
   "metadata": {},
   "source": [
    "20/1520 Identified as Null/Unknown/Blank which is 1.3% of the whole dataset, this is very small dropping these values may be the best option as imputing them may cause the data to be less accurate later on"
   ]
  },
  {
   "cell_type": "code",
   "execution_count": 12,
   "metadata": {},
   "outputs": [
    {
     "data": {
      "image/png": "[encoded data removed]",
      "text/plain": [
       "<Figure size 432x288 with 1 Axes>"
      ]
     },
     "metadata": {},
     "output_type": "display_data"
    }
   ],
   "source": [
    "labels = 'Valid Data', 'Invalid Data'\n",
    "sizes = [1500, 20]\n",
    "colors = ['lightskyblue', 'lightcoral']\n",
    "explode = (0.1, 0)  # explode 1st slice\n",
    "\n",
    "plt.pie(sizes, explode=explode, labels=labels, colors=colors,\n",
    "autopct='%1.1f%%', shadow=True, startangle=140)\n",
    "\n",
    "plt.axis('equal')\n",
    "plt.show()"
   ]
  },
  {
   "cell_type": "markdown",
   "metadata": {},
   "source": [
    "#### Drop the Records"
   ]
  },
  {
   "cell_type": "code",
   "execution_count": 13,
   "metadata": {},
   "outputs": [
    {
     "data": {
      "text/html": [
       "<div>\n",
       "<style scoped>\n",
       "    .dataframe tbody tr th:only-of-type {\n",
       "        vertical-align: middle;\n",
       "    }\n",
       "\n",
       "    .dataframe tbody tr th {\n",
       "        vertical-align: top;\n",
       "    }\n",
       "\n",
       "    .dataframe thead th {\n",
       "        text-align: right;\n",
       "    }\n",
       "</style>\n",
       "<table border=\"1\" class=\"dataframe\">\n",
       "  <thead>\n",
       "    <tr style=\"text-align: right;\">\n",
       "      <th></th>\n",
       "      <th>Random</th>\n",
       "      <th>Id</th>\n",
       "      <th>Indication</th>\n",
       "      <th>Diabetes</th>\n",
       "      <th>IHD</th>\n",
       "      <th>Hypertension</th>\n",
       "      <th>Arrhythmia</th>\n",
       "      <th>History</th>\n",
       "      <th>IPSI</th>\n",
       "      <th>Contra</th>\n",
       "      <th>label</th>\n",
       "    </tr>\n",
       "  </thead>\n",
       "  <tbody>\n",
       "    <tr>\n",
       "      <th>0</th>\n",
       "      <td>0.602437</td>\n",
       "      <td>218242</td>\n",
       "      <td>A-F</td>\n",
       "      <td>no</td>\n",
       "      <td>no</td>\n",
       "      <td>yes</td>\n",
       "      <td>no</td>\n",
       "      <td>no</td>\n",
       "      <td>78.0</td>\n",
       "      <td>20</td>\n",
       "      <td>NoRisk</td>\n",
       "    </tr>\n",
       "    <tr>\n",
       "      <th>1</th>\n",
       "      <td>0.602437</td>\n",
       "      <td>159284</td>\n",
       "      <td>TIA</td>\n",
       "      <td>no</td>\n",
       "      <td>no</td>\n",
       "      <td>no</td>\n",
       "      <td>no</td>\n",
       "      <td>no</td>\n",
       "      <td>70.0</td>\n",
       "      <td>60</td>\n",
       "      <td>NoRisk</td>\n",
       "    </tr>\n",
       "    <tr>\n",
       "      <th>2</th>\n",
       "      <td>0.602437</td>\n",
       "      <td>106066</td>\n",
       "      <td>A-F</td>\n",
       "      <td>no</td>\n",
       "      <td>yes</td>\n",
       "      <td>yes</td>\n",
       "      <td>no</td>\n",
       "      <td>no</td>\n",
       "      <td>95.0</td>\n",
       "      <td>40</td>\n",
       "      <td>Risk</td>\n",
       "    </tr>\n",
       "    <tr>\n",
       "      <th>3</th>\n",
       "      <td>0.128157</td>\n",
       "      <td>229592</td>\n",
       "      <td>TIA</td>\n",
       "      <td>no</td>\n",
       "      <td>no</td>\n",
       "      <td>yes</td>\n",
       "      <td>no</td>\n",
       "      <td>no</td>\n",
       "      <td>90.0</td>\n",
       "      <td>85</td>\n",
       "      <td>Risk</td>\n",
       "    </tr>\n",
       "    <tr>\n",
       "      <th>4</th>\n",
       "      <td>0.676862</td>\n",
       "      <td>245829</td>\n",
       "      <td>CVA</td>\n",
       "      <td>no</td>\n",
       "      <td>no</td>\n",
       "      <td>no</td>\n",
       "      <td>no</td>\n",
       "      <td>no</td>\n",
       "      <td>70.0</td>\n",
       "      <td>20</td>\n",
       "      <td>NoRisk</td>\n",
       "    </tr>\n",
       "  </tbody>\n",
       "</table>\n",
       "</div>"
      ],
      "text/plain": [
       "     Random      Id Indication Diabetes  IHD Hypertension Arrhythmia History  \\\n",
       "0  0.602437  218242        A-F       no   no          yes         no      no   \n",
       "1  0.602437  159284        TIA       no   no           no         no      no   \n",
       "2  0.602437  106066        A-F       no  yes          yes         no      no   \n",
       "3  0.128157  229592        TIA       no   no          yes         no      no   \n",
       "4  0.676862  245829        CVA       no   no           no         no      no   \n",
       "\n",
       "   IPSI Contra   label  \n",
       "0  78.0    20   NoRisk  \n",
       "1  70.0    60   NoRisk  \n",
       "2  95.0     40    Risk  \n",
       "3  90.0     85    Risk  \n",
       "4  70.0    20   NoRisk  "
      ]
     },
     "execution_count": 13,
     "metadata": {},
     "output_type": "execute_result"
    }
   ],
   "source": [
    "MedicalRecordsWorkingCopy = MedicalRecordsWorkingCopy.drop (MedicalRecordsWorkingCopy[MedicalRecordsWorkingCopy[\"Indication\"].isnull()].index ,axis =0)#drop NaNs\n",
    "MedicalRecordsWorkingCopy = MedicalRecordsWorkingCopy.drop (MedicalRecordsWorkingCopy[MedicalRecordsWorkingCopy[\"Diabetes\"].isnull()].index ,axis =0)#drop NaNs\n",
    "MedicalRecordsWorkingCopy = MedicalRecordsWorkingCopy.drop (MedicalRecordsWorkingCopy[MedicalRecordsWorkingCopy[\"Hypertension\"].isnull()].index ,axis =0)#drop NaNs\n",
    "MedicalRecordsWorkingCopy = MedicalRecordsWorkingCopy.drop (MedicalRecordsWorkingCopy[MedicalRecordsWorkingCopy[\"History\"].isnull()].index ,axis =0)#drop NaNs\n",
    "MedicalRecordsWorkingCopy = MedicalRecordsWorkingCopy.drop (MedicalRecordsWorkingCopy[MedicalRecordsWorkingCopy[\"IPSI\"].isnull()].index ,axis =0)#drop NaNs\n",
    "MedicalRecordsWorkingCopy = MedicalRecordsWorkingCopy.drop (MedicalRecordsWorkingCopy[MedicalRecordsWorkingCopy[\"label\"].isnull()].index ,axis =0)#drop NaNs\n",
    "MedicalRecordsWorkingCopy = MedicalRecordsWorkingCopy.drop (MedicalRecordsWorkingCopy[MedicalRecordsWorkingCopy['label'] == \"Unknown\"].index ,axis =0)#drop NaNs\n",
    "MedicalRecordsWorkingCopy = MedicalRecordsWorkingCopy.drop (MedicalRecordsWorkingCopy[MedicalRecordsWorkingCopy['Contra'] == \" \"].index ,axis =0)#drop NaNs\n",
    "MedicalRecordsWorkingCopy.head()\n"
   ]
  },
  {
   "cell_type": "markdown",
   "metadata": {},
   "source": [
    "## Data Duplication"
   ]
  },
  {
   "cell_type": "markdown",
   "metadata": {},
   "source": [
    "There are 2 Versions of ASx one with less records and 1 with more"
   ]
  },
  {
   "cell_type": "code",
   "execution_count": 14,
   "metadata": {},
   "outputs": [
    {
     "data": {
      "text/html": [
       "<div>\n",
       "<style scoped>\n",
       "    .dataframe tbody tr th:only-of-type {\n",
       "        vertical-align: middle;\n",
       "    }\n",
       "\n",
       "    .dataframe tbody tr th {\n",
       "        vertical-align: top;\n",
       "    }\n",
       "\n",
       "    .dataframe thead th {\n",
       "        text-align: right;\n",
       "    }\n",
       "</style>\n",
       "<table border=\"1\" class=\"dataframe\">\n",
       "  <thead>\n",
       "    <tr style=\"text-align: right;\">\n",
       "      <th></th>\n",
       "      <th>Random</th>\n",
       "      <th>Id</th>\n",
       "      <th>Indication</th>\n",
       "      <th>Diabetes</th>\n",
       "      <th>IHD</th>\n",
       "      <th>Hypertension</th>\n",
       "      <th>Arrhythmia</th>\n",
       "      <th>History</th>\n",
       "      <th>IPSI</th>\n",
       "      <th>Contra</th>\n",
       "      <th>label</th>\n",
       "    </tr>\n",
       "  </thead>\n",
       "  <tbody>\n",
       "    <tr>\n",
       "      <th>68</th>\n",
       "      <td>0.549947</td>\n",
       "      <td>113727</td>\n",
       "      <td>Asx</td>\n",
       "      <td>yes</td>\n",
       "      <td>yes</td>\n",
       "      <td>yes</td>\n",
       "      <td>no</td>\n",
       "      <td>no</td>\n",
       "      <td>75.0</td>\n",
       "      <td>100</td>\n",
       "      <td>Risk</td>\n",
       "    </tr>\n",
       "    <tr>\n",
       "      <th>111</th>\n",
       "      <td>0.171185</td>\n",
       "      <td>95883</td>\n",
       "      <td>Asx</td>\n",
       "      <td>yes</td>\n",
       "      <td>yes</td>\n",
       "      <td>yes</td>\n",
       "      <td>yes</td>\n",
       "      <td>no</td>\n",
       "      <td>99.0</td>\n",
       "      <td>75</td>\n",
       "      <td>Risk</td>\n",
       "    </tr>\n",
       "    <tr>\n",
       "      <th>131</th>\n",
       "      <td>0.511954</td>\n",
       "      <td>95004</td>\n",
       "      <td>Asx</td>\n",
       "      <td>no</td>\n",
       "      <td>yes</td>\n",
       "      <td>yes</td>\n",
       "      <td>yes</td>\n",
       "      <td>no</td>\n",
       "      <td>75.0</td>\n",
       "      <td>100</td>\n",
       "      <td>Risk</td>\n",
       "    </tr>\n",
       "    <tr>\n",
       "      <th>172</th>\n",
       "      <td>0.209577</td>\n",
       "      <td>84632</td>\n",
       "      <td>Asx</td>\n",
       "      <td>yes</td>\n",
       "      <td>yes</td>\n",
       "      <td>yes</td>\n",
       "      <td>no</td>\n",
       "      <td>no</td>\n",
       "      <td>90.0</td>\n",
       "      <td>95</td>\n",
       "      <td>Risk</td>\n",
       "    </tr>\n",
       "    <tr>\n",
       "      <th>177</th>\n",
       "      <td>0.895377</td>\n",
       "      <td>230462</td>\n",
       "      <td>Asx</td>\n",
       "      <td>no</td>\n",
       "      <td>yes</td>\n",
       "      <td>yes</td>\n",
       "      <td>yes</td>\n",
       "      <td>no</td>\n",
       "      <td>80.0</td>\n",
       "      <td>53</td>\n",
       "      <td>Risk</td>\n",
       "    </tr>\n",
       "  </tbody>\n",
       "</table>\n",
       "</div>"
      ],
      "text/plain": [
       "       Random      Id Indication Diabetes  IHD Hypertension Arrhythmia  \\\n",
       "68   0.549947  113727        Asx      yes  yes          yes         no   \n",
       "111  0.171185   95883        Asx      yes  yes          yes        yes   \n",
       "131  0.511954   95004        Asx       no  yes          yes        yes   \n",
       "172  0.209577   84632        Asx      yes  yes          yes         no   \n",
       "177  0.895377  230462        Asx       no  yes          yes        yes   \n",
       "\n",
       "    History  IPSI Contra label  \n",
       "68       no  75.0    100  Risk  \n",
       "111      no  99.0     75  Risk  \n",
       "131      no  75.0    100  Risk  \n",
       "172      no  90.0     95  Risk  \n",
       "177      no  80.0     53  Risk  "
      ]
     },
     "execution_count": 14,
     "metadata": {},
     "output_type": "execute_result"
    }
   ],
   "source": [
    "MedicalRecordsWorkingCopy[MedicalRecordsWorkingCopy['Indication']==\"Asx\"].head()"
   ]
  },
  {
   "cell_type": "code",
   "execution_count": 15,
   "metadata": {},
   "outputs": [
    {
     "data": {
      "text/html": [
       "<div>\n",
       "<style scoped>\n",
       "    .dataframe tbody tr th:only-of-type {\n",
       "        vertical-align: middle;\n",
       "    }\n",
       "\n",
       "    .dataframe tbody tr th {\n",
       "        vertical-align: top;\n",
       "    }\n",
       "\n",
       "    .dataframe thead th {\n",
       "        text-align: right;\n",
       "    }\n",
       "</style>\n",
       "<table border=\"1\" class=\"dataframe\">\n",
       "  <thead>\n",
       "    <tr style=\"text-align: right;\">\n",
       "      <th></th>\n",
       "      <th>Random</th>\n",
       "      <th>Id</th>\n",
       "      <th>Indication</th>\n",
       "      <th>Diabetes</th>\n",
       "      <th>IHD</th>\n",
       "      <th>Hypertension</th>\n",
       "      <th>Arrhythmia</th>\n",
       "      <th>History</th>\n",
       "      <th>IPSI</th>\n",
       "      <th>Contra</th>\n",
       "      <th>label</th>\n",
       "    </tr>\n",
       "  </thead>\n",
       "  <tbody>\n",
       "    <tr>\n",
       "      <th>16</th>\n",
       "      <td>0.065821</td>\n",
       "      <td>275149</td>\n",
       "      <td>ASx</td>\n",
       "      <td>no</td>\n",
       "      <td>yes</td>\n",
       "      <td>yes</td>\n",
       "      <td>yes</td>\n",
       "      <td>no</td>\n",
       "      <td>90.0</td>\n",
       "      <td>100</td>\n",
       "      <td>Risk</td>\n",
       "    </tr>\n",
       "    <tr>\n",
       "      <th>19</th>\n",
       "      <td>0.065821</td>\n",
       "      <td>101248</td>\n",
       "      <td>ASx</td>\n",
       "      <td>yes</td>\n",
       "      <td>no</td>\n",
       "      <td>yes</td>\n",
       "      <td>no</td>\n",
       "      <td>no</td>\n",
       "      <td>80.0</td>\n",
       "      <td>80</td>\n",
       "      <td>Risk</td>\n",
       "    </tr>\n",
       "    <tr>\n",
       "      <th>21</th>\n",
       "      <td>0.981939</td>\n",
       "      <td>217006</td>\n",
       "      <td>ASx</td>\n",
       "      <td>no</td>\n",
       "      <td>yes</td>\n",
       "      <td>no</td>\n",
       "      <td>no</td>\n",
       "      <td>no</td>\n",
       "      <td>80.0</td>\n",
       "      <td>75</td>\n",
       "      <td>NoRisk</td>\n",
       "    </tr>\n",
       "    <tr>\n",
       "      <th>22</th>\n",
       "      <td>0.890427</td>\n",
       "      <td>184827</td>\n",
       "      <td>ASx</td>\n",
       "      <td>no</td>\n",
       "      <td>no</td>\n",
       "      <td>yes</td>\n",
       "      <td>no</td>\n",
       "      <td>no</td>\n",
       "      <td>85.0</td>\n",
       "      <td>10</td>\n",
       "      <td>NoRisk</td>\n",
       "    </tr>\n",
       "    <tr>\n",
       "      <th>57</th>\n",
       "      <td>0.723126</td>\n",
       "      <td>254427</td>\n",
       "      <td>ASx</td>\n",
       "      <td>no</td>\n",
       "      <td>yes</td>\n",
       "      <td>no</td>\n",
       "      <td>no</td>\n",
       "      <td>no</td>\n",
       "      <td>76.0</td>\n",
       "      <td>50</td>\n",
       "      <td>NoRisk</td>\n",
       "    </tr>\n",
       "  </tbody>\n",
       "</table>\n",
       "</div>"
      ],
      "text/plain": [
       "      Random      Id Indication Diabetes  IHD Hypertension Arrhythmia History  \\\n",
       "16  0.065821  275149        ASx       no  yes          yes        yes      no   \n",
       "19  0.065821  101248        ASx      yes   no          yes         no      no   \n",
       "21  0.981939  217006        ASx       no  yes           no         no      no   \n",
       "22  0.890427  184827        ASx       no   no          yes         no      no   \n",
       "57  0.723126  254427        ASx       no  yes           no         no      no   \n",
       "\n",
       "    IPSI Contra   label  \n",
       "16  90.0    100    Risk  \n",
       "19  80.0     80    Risk  \n",
       "21  80.0    75   NoRisk  \n",
       "22  85.0    10   NoRisk  \n",
       "57  76.0    50   NoRisk  "
      ]
     },
     "execution_count": 15,
     "metadata": {},
     "output_type": "execute_result"
    }
   ],
   "source": [
    "MedicalRecordsWorkingCopy[MedicalRecordsWorkingCopy['Indication']==\"ASx\"].head()"
   ]
  },
  {
   "cell_type": "markdown",
   "metadata": {},
   "source": [
    "According to the medical dictionary (https://medical-dictionary.thefreedictionary.com/Asx) the correct version of this acronym is Asx. \n",
    "\n",
    "Change ASx to Asx"
   ]
  },
  {
   "cell_type": "code",
   "execution_count": 16,
   "metadata": {},
   "outputs": [
    {
     "data": {
      "text/html": [
       "<div>\n",
       "<style scoped>\n",
       "    .dataframe tbody tr th:only-of-type {\n",
       "        vertical-align: middle;\n",
       "    }\n",
       "\n",
       "    .dataframe tbody tr th {\n",
       "        vertical-align: top;\n",
       "    }\n",
       "\n",
       "    .dataframe thead th {\n",
       "        text-align: right;\n",
       "    }\n",
       "</style>\n",
       "<table border=\"1\" class=\"dataframe\">\n",
       "  <thead>\n",
       "    <tr style=\"text-align: right;\">\n",
       "      <th></th>\n",
       "      <th>Random</th>\n",
       "      <th>Id</th>\n",
       "      <th>Indication</th>\n",
       "      <th>Diabetes</th>\n",
       "      <th>IHD</th>\n",
       "      <th>Hypertension</th>\n",
       "      <th>Arrhythmia</th>\n",
       "      <th>History</th>\n",
       "      <th>IPSI</th>\n",
       "      <th>Contra</th>\n",
       "      <th>label</th>\n",
       "    </tr>\n",
       "  </thead>\n",
       "  <tbody>\n",
       "    <tr>\n",
       "      <th>16</th>\n",
       "      <td>0.065821</td>\n",
       "      <td>275149</td>\n",
       "      <td>Asx</td>\n",
       "      <td>no</td>\n",
       "      <td>yes</td>\n",
       "      <td>yes</td>\n",
       "      <td>yes</td>\n",
       "      <td>no</td>\n",
       "      <td>90.0</td>\n",
       "      <td>100</td>\n",
       "      <td>Risk</td>\n",
       "    </tr>\n",
       "    <tr>\n",
       "      <th>19</th>\n",
       "      <td>0.065821</td>\n",
       "      <td>101248</td>\n",
       "      <td>Asx</td>\n",
       "      <td>yes</td>\n",
       "      <td>no</td>\n",
       "      <td>yes</td>\n",
       "      <td>no</td>\n",
       "      <td>no</td>\n",
       "      <td>80.0</td>\n",
       "      <td>80</td>\n",
       "      <td>Risk</td>\n",
       "    </tr>\n",
       "    <tr>\n",
       "      <th>21</th>\n",
       "      <td>0.981939</td>\n",
       "      <td>217006</td>\n",
       "      <td>Asx</td>\n",
       "      <td>no</td>\n",
       "      <td>yes</td>\n",
       "      <td>no</td>\n",
       "      <td>no</td>\n",
       "      <td>no</td>\n",
       "      <td>80.0</td>\n",
       "      <td>75</td>\n",
       "      <td>NoRisk</td>\n",
       "    </tr>\n",
       "    <tr>\n",
       "      <th>22</th>\n",
       "      <td>0.890427</td>\n",
       "      <td>184827</td>\n",
       "      <td>Asx</td>\n",
       "      <td>no</td>\n",
       "      <td>no</td>\n",
       "      <td>yes</td>\n",
       "      <td>no</td>\n",
       "      <td>no</td>\n",
       "      <td>85.0</td>\n",
       "      <td>10</td>\n",
       "      <td>NoRisk</td>\n",
       "    </tr>\n",
       "    <tr>\n",
       "      <th>57</th>\n",
       "      <td>0.723126</td>\n",
       "      <td>254427</td>\n",
       "      <td>Asx</td>\n",
       "      <td>no</td>\n",
       "      <td>yes</td>\n",
       "      <td>no</td>\n",
       "      <td>no</td>\n",
       "      <td>no</td>\n",
       "      <td>76.0</td>\n",
       "      <td>50</td>\n",
       "      <td>NoRisk</td>\n",
       "    </tr>\n",
       "  </tbody>\n",
       "</table>\n",
       "</div>"
      ],
      "text/plain": [
       "      Random      Id Indication Diabetes  IHD Hypertension Arrhythmia History  \\\n",
       "16  0.065821  275149        Asx       no  yes          yes        yes      no   \n",
       "19  0.065821  101248        Asx      yes   no          yes         no      no   \n",
       "21  0.981939  217006        Asx       no  yes           no         no      no   \n",
       "22  0.890427  184827        Asx       no   no          yes         no      no   \n",
       "57  0.723126  254427        Asx       no  yes           no         no      no   \n",
       "\n",
       "    IPSI Contra   label  \n",
       "16  90.0    100    Risk  \n",
       "19  80.0     80    Risk  \n",
       "21  80.0    75   NoRisk  \n",
       "22  85.0    10   NoRisk  \n",
       "57  76.0    50   NoRisk  "
      ]
     },
     "execution_count": 16,
     "metadata": {},
     "output_type": "execute_result"
    }
   ],
   "source": [
    "MedicalRecordsWorkingCopy = MedicalRecordsWorkingCopy.replace('ASx','Asx')\n",
    "MedicalRecordsWorkingCopy[MedicalRecordsWorkingCopy['Indication']==\"Asx\"].head()"
   ]
  },
  {
   "cell_type": "code",
   "execution_count": 17,
   "metadata": {},
   "outputs": [
    {
     "name": "stdout",
     "output_type": "stream",
     "text": [
      "Is Random truley unique to each record: False \n",
      "\n",
      "Is Random Id unique to each record: True\n"
     ]
    }
   ],
   "source": [
    "print (\"Is Random truley unique to each record:\",MedicalRecordsWorkingCopy['Random'].is_unique,\"\\n\")\n",
    "print (\"Is Random Id unique to each record:\",MedicalRecordsWorkingCopy['Id'].is_unique)"
   ]
  },
  {
   "cell_type": "markdown",
   "metadata": {},
   "source": [
    "The Data dictionary states that Random is a completly unique value and as seen above the data repeats itself however Id is completley unique. Is the data wrong or the values value names in the wrong order? \n",
    "\n",
    "it is highly probable that the value names are the wrong way round and as you can see by the bar chart below you can see how many times a patient visited a hospital if \"Random\" was \"ID\". This should have been ironed out in the buiness understanding phase of CRISP-DM however due to not having any contact with the outside buiness I have kept this the same as the Data Description."
   ]
  },
  {
   "cell_type": "code",
   "execution_count": 18,
   "metadata": {},
   "outputs": [
    {
     "data": {
      "text/plain": [
       "<seaborn.axisgrid.FacetGrid at 0x24e69330>"
      ]
     },
     "execution_count": 18,
     "metadata": {},
     "output_type": "execute_result"
    },
    {
     "data": {
      "image/png": "[encoded data removed]",
      "text/plain": [
       "<Figure size 360x360 with 1 Axes>"
      ]
     },
     "metadata": {
      "needs_background": "light"
     },
     "output_type": "display_data"
    }
   ],
   "source": [
    "sns.catplot(\"Random\",data = MedicalRecordsWorkingCopy, kind = 'count')"
   ]
  },
  {
   "cell_type": "markdown",
   "metadata": {},
   "source": [
    "#### Droping Duplicates?\n",
    "\n",
    "Dropping the duplicates (patients that visited more than once) would drop a significant portion of the data (as seen below) so the datasets accuracy might be severly affected later on in the process. Additionally, considering im only predicting if a Patient is a Risk or not I don't mind having duplicates in my data as this will not affect my end result. "
   ]
  },
  {
   "cell_type": "code",
   "execution_count": 19,
   "metadata": {},
   "outputs": [
    {
     "name": "stdout",
     "output_type": "stream",
     "text": [
      "Number of duplicated records 289\n"
     ]
    },
    {
     "data": {
      "image/png": "[encoded data removed]",
      "text/plain": [
       "<Figure size 432x288 with 1 Axes>"
      ]
     },
     "metadata": {},
     "output_type": "display_data"
    }
   ],
   "source": [
    "count = 0\n",
    "DuplicatedNo = MedicalRecordsWorkingCopy['Random'].duplicated()\n",
    "for x in DuplicatedNo:\n",
    "    if x == True:\n",
    "        count = count + 1\n",
    "        \n",
    "print(\"Number of duplicated records\",count)\n",
    "\n",
    "\n",
    "labels = 'Unique Data', 'Duplicated Data'\n",
    "sizes = [1211, 289]\n",
    "colors = ['lightskyblue', 'lightcoral']\n",
    "explode = (0.1, 0)  # explode 1st slice\n",
    "\n",
    "plt.pie(sizes, explode=explode, labels=labels, colors=colors,\n",
    "autopct='%1.1f%%', shadow=True, startangle=140)\n",
    "\n",
    "plt.axis('equal')\n",
    "plt.show()"
   ]
  },
  {
   "cell_type": "markdown",
   "metadata": {},
   "source": [
    "## Check Data Types"
   ]
  },
  {
   "cell_type": "markdown",
   "metadata": {},
   "source": [
    "Check if the data types line up with the data description given if not change it"
   ]
  },
  {
   "cell_type": "code",
   "execution_count": 20,
   "metadata": {},
   "outputs": [
    {
     "data": {
      "text/plain": [
       "Random          float64\n",
       "Id                int64\n",
       "Indication       object\n",
       "Diabetes         object\n",
       "IHD              object\n",
       "Hypertension     object\n",
       "Arrhythmia       object\n",
       "History          object\n",
       "IPSI            float64\n",
       "Contra           object\n",
       "label            object\n",
       "dtype: object"
      ]
     },
     "execution_count": 20,
     "metadata": {},
     "output_type": "execute_result"
    }
   ],
   "source": [
    "MedicalRecordsWorkingCopy.dtypes"
   ]
  },
  {
   "cell_type": "code",
   "execution_count": 21,
   "metadata": {},
   "outputs": [],
   "source": [
    "MedicalRecordsWorkingCopy['IPSI'] = MedicalRecordsWorkingCopy['IPSI'].astype(int)\n"
   ]
  },
  {
   "cell_type": "code",
   "execution_count": 22,
   "metadata": {},
   "outputs": [
    {
     "data": {
      "text/plain": [
       "Random          float64\n",
       "Id                int64\n",
       "Indication       object\n",
       "Diabetes         object\n",
       "IHD              object\n",
       "Hypertension     object\n",
       "Arrhythmia       object\n",
       "History          object\n",
       "IPSI              int32\n",
       "Contra            int32\n",
       "label            object\n",
       "dtype: object"
      ]
     },
     "execution_count": 22,
     "metadata": {},
     "output_type": "execute_result"
    }
   ],
   "source": [
    "MedicalRecordsWorkingCopy['Contra'] = MedicalRecordsWorkingCopy['Contra'].astype(int)\n",
    "MedicalRecordsWorkingCopy.dtypes"
   ]
  },
  {
   "cell_type": "markdown",
   "metadata": {},
   "source": [
    "## Check if data is fully clean"
   ]
  },
  {
   "cell_type": "markdown",
   "metadata": {},
   "source": [
    "This data should align with the given data description"
   ]
  },
  {
   "cell_type": "code",
   "execution_count": 23,
   "metadata": {},
   "outputs": [
    {
     "name": "stdout",
     "output_type": "stream",
     "text": [
      "Values of Random are: [0.60243709 0.12815663 0.6768621  ... 0.62037252 0.63934177 0.6349223 ] \n",
      "\n",
      "Values of Id are: [218242 159284 106066 ... 101754 263836 254941] \n",
      "\n",
      "Values of Indication are: ['A-F' 'TIA' 'CVA' 'Asx'] \n",
      "\n",
      "Values of IHD are: ['no' 'yes'] \n",
      "\n",
      "Values of Arrhythmia are: ['no' 'yes'] \n",
      "\n",
      "Values of History are: ['no' 'yes'] \n",
      "\n",
      "Values of IPSI are: [78 70 95 90 75 81 80 76 82 85 68 50 73 99 71 65 74 98 97 60 67 79 77 84\n",
      " 55 35 51 69 72] \n",
      "\n",
      "Values of Contra are: [ 20  60  40  85  95 100  50  30  80  25  75  10  70  15  35  55  90  79\n",
      "  45  65  62  53  51  16  73] \n",
      "\n",
      "Values of label are: ['NoRisk' 'Risk'] \n",
      "\n"
     ]
    }
   ],
   "source": [
    "print(\"Values of Random are:\",MedicalRecordsWorkingCopy['Random'].unique(),\"\\n\")\n",
    "print(\"Values of Id are:\",MedicalRecordsWorkingCopy['Id'].unique(),\"\\n\")\n",
    "print(\"Values of Indication are:\",MedicalRecordsWorkingCopy['Indication'].unique(),\"\\n\")\n",
    "print(\"Values of IHD are:\",MedicalRecordsWorkingCopy['IHD'].unique(),\"\\n\")\n",
    "print(\"Values of Arrhythmia are:\",MedicalRecordsWorkingCopy['Arrhythmia'].unique(),\"\\n\")\n",
    "print(\"Values of History are:\",MedicalRecordsWorkingCopy['History'].unique(),\"\\n\")\n",
    "print(\"Values of IPSI are:\",MedicalRecordsWorkingCopy['IPSI'].unique(),\"\\n\")\n",
    "print(\"Values of Contra are:\",MedicalRecordsWorkingCopy['Contra'].unique(),\"\\n\")\n",
    "print(\"Values of label are:\",MedicalRecordsWorkingCopy['label'].unique(),\"\\n\")"
   ]
  },
  {
   "cell_type": "markdown",
   "metadata": {},
   "source": [
    "## What Values are needed for the classification?"
   ]
  },
  {
   "cell_type": "markdown",
   "metadata": {},
   "source": [
    "Most values in this data set are needed for the classification as they have meaning and could affect the outcome. However, Id and Random doesn'yt actually matter as knowing who someone is doesnt affect the end result, for that reason I have dropped these 2 columbs"
   ]
  },
  {
   "cell_type": "code",
   "execution_count": 24,
   "metadata": {},
   "outputs": [
    {
     "data": {
      "text/html": [
       "<div>\n",
       "<style scoped>\n",
       "    .dataframe tbody tr th:only-of-type {\n",
       "        vertical-align: middle;\n",
       "    }\n",
       "\n",
       "    .dataframe tbody tr th {\n",
       "        vertical-align: top;\n",
       "    }\n",
       "\n",
       "    .dataframe thead th {\n",
       "        text-align: right;\n",
       "    }\n",
       "</style>\n",
       "<table border=\"1\" class=\"dataframe\">\n",
       "  <thead>\n",
       "    <tr style=\"text-align: right;\">\n",
       "      <th></th>\n",
       "      <th>Indication</th>\n",
       "      <th>Diabetes</th>\n",
       "      <th>IHD</th>\n",
       "      <th>Hypertension</th>\n",
       "      <th>Arrhythmia</th>\n",
       "      <th>History</th>\n",
       "      <th>IPSI</th>\n",
       "      <th>Contra</th>\n",
       "      <th>label</th>\n",
       "    </tr>\n",
       "  </thead>\n",
       "  <tbody>\n",
       "    <tr>\n",
       "      <th>0</th>\n",
       "      <td>A-F</td>\n",
       "      <td>no</td>\n",
       "      <td>no</td>\n",
       "      <td>yes</td>\n",
       "      <td>no</td>\n",
       "      <td>no</td>\n",
       "      <td>78</td>\n",
       "      <td>20</td>\n",
       "      <td>NoRisk</td>\n",
       "    </tr>\n",
       "    <tr>\n",
       "      <th>1</th>\n",
       "      <td>TIA</td>\n",
       "      <td>no</td>\n",
       "      <td>no</td>\n",
       "      <td>no</td>\n",
       "      <td>no</td>\n",
       "      <td>no</td>\n",
       "      <td>70</td>\n",
       "      <td>60</td>\n",
       "      <td>NoRisk</td>\n",
       "    </tr>\n",
       "    <tr>\n",
       "      <th>2</th>\n",
       "      <td>A-F</td>\n",
       "      <td>no</td>\n",
       "      <td>yes</td>\n",
       "      <td>yes</td>\n",
       "      <td>no</td>\n",
       "      <td>no</td>\n",
       "      <td>95</td>\n",
       "      <td>40</td>\n",
       "      <td>Risk</td>\n",
       "    </tr>\n",
       "    <tr>\n",
       "      <th>3</th>\n",
       "      <td>TIA</td>\n",
       "      <td>no</td>\n",
       "      <td>no</td>\n",
       "      <td>yes</td>\n",
       "      <td>no</td>\n",
       "      <td>no</td>\n",
       "      <td>90</td>\n",
       "      <td>85</td>\n",
       "      <td>Risk</td>\n",
       "    </tr>\n",
       "    <tr>\n",
       "      <th>4</th>\n",
       "      <td>CVA</td>\n",
       "      <td>no</td>\n",
       "      <td>no</td>\n",
       "      <td>no</td>\n",
       "      <td>no</td>\n",
       "      <td>no</td>\n",
       "      <td>70</td>\n",
       "      <td>20</td>\n",
       "      <td>NoRisk</td>\n",
       "    </tr>\n",
       "  </tbody>\n",
       "</table>\n",
       "</div>"
      ],
      "text/plain": [
       "  Indication Diabetes  IHD Hypertension Arrhythmia History  IPSI  Contra  \\\n",
       "0        A-F       no   no          yes         no      no    78      20   \n",
       "1        TIA       no   no           no         no      no    70      60   \n",
       "2        A-F       no  yes          yes         no      no    95      40   \n",
       "3        TIA       no   no          yes         no      no    90      85   \n",
       "4        CVA       no   no           no         no      no    70      20   \n",
       "\n",
       "    label  \n",
       "0  NoRisk  \n",
       "1  NoRisk  \n",
       "2    Risk  \n",
       "3    Risk  \n",
       "4  NoRisk  "
      ]
     },
     "execution_count": 24,
     "metadata": {},
     "output_type": "execute_result"
    }
   ],
   "source": [
    "MedicalRecordsWorkingCopy = MedicalRecordsWorkingCopy.drop(columns=['Id','Random'])\n",
    "MedicalRecordsWorkingCopy.head()"
   ]
  },
  {
   "cell_type": "markdown",
   "metadata": {},
   "source": [
    "I have also split up Risk and No Risk as I am trying to predict if someone is a risk or not"
   ]
  },
  {
   "cell_type": "code",
   "execution_count": 25,
   "metadata": {},
   "outputs": [],
   "source": [
    "dummiesLabel = MedicalRecordsWorkingCopy[\"label\"].str.get_dummies(\" \")\n",
    "MedicalRecordsWorkingCopy = MedicalRecordsWorkingCopy.drop(columns=['label'])\n",
    "frames = [MedicalRecordsWorkingCopy,dummiesLabel] #data to concatanate\n",
    "MedicalRecordsWorkingCopy = pd.concat(frames, axis=1) #concated data"
   ]
  },
  {
   "cell_type": "markdown",
   "metadata": {},
   "source": [
    "Split the Indication values into 4 columbs to allow for correlations between the conditions"
   ]
  },
  {
   "cell_type": "code",
   "execution_count": 26,
   "metadata": {},
   "outputs": [],
   "source": [
    "dummiesIndication = MedicalRecordsWorkingCopy[\"Indication\"].str.get_dummies(\" \")\n",
    "MedicalRecordsWorkingCopy = MedicalRecordsWorkingCopy.drop(columns=['Indication'])\n",
    "frames = [MedicalRecordsWorkingCopy,dummiesIndication] #data to concatanate\n",
    "MedicalRecordsWorkingCopy = pd.concat(frames, axis=1) #concated data"
   ]
  },
  {
   "cell_type": "markdown",
   "metadata": {},
   "source": [
    "## Finding Correlations"
   ]
  },
  {
   "cell_type": "markdown",
   "metadata": {},
   "source": [
    "Finding Correlations in the data is important as it shows where one data varible (IPSI,Contra,Diabetes..etc) may affect another varible in the data. This is important for this data as knowing what data affects someone who is at risk is key to predicting is someone new has a risk or not. \n",
    "\n",
    "\n",
    "Values need to be numbers in order to find the correlation values of the data, therefore a copy of the data has been made and some values have been replaces by dummies. Label encoder from sklearn was used as it was easier to set all of the values to binary digits, Get_dummies was used when I wanted to split the values into two seperate colunmbs "
   ]
  },
  {
   "cell_type": "code",
   "execution_count": 27,
   "metadata": {},
   "outputs": [
    {
     "data": {
      "text/html": [
       "<div>\n",
       "<style scoped>\n",
       "    .dataframe tbody tr th:only-of-type {\n",
       "        vertical-align: middle;\n",
       "    }\n",
       "\n",
       "    .dataframe tbody tr th {\n",
       "        vertical-align: top;\n",
       "    }\n",
       "\n",
       "    .dataframe thead th {\n",
       "        text-align: right;\n",
       "    }\n",
       "</style>\n",
       "<table border=\"1\" class=\"dataframe\">\n",
       "  <thead>\n",
       "    <tr style=\"text-align: right;\">\n",
       "      <th></th>\n",
       "      <th>Diabetes</th>\n",
       "      <th>IHD</th>\n",
       "      <th>Hypertension</th>\n",
       "      <th>Arrhythmia</th>\n",
       "      <th>History</th>\n",
       "      <th>IPSI</th>\n",
       "      <th>Contra</th>\n",
       "      <th>NoRisk</th>\n",
       "      <th>Risk</th>\n",
       "      <th>A-F</th>\n",
       "      <th>Asx</th>\n",
       "      <th>CVA</th>\n",
       "      <th>TIA</th>\n",
       "    </tr>\n",
       "  </thead>\n",
       "  <tbody>\n",
       "    <tr>\n",
       "      <th>0</th>\n",
       "      <td>no</td>\n",
       "      <td>no</td>\n",
       "      <td>yes</td>\n",
       "      <td>no</td>\n",
       "      <td>no</td>\n",
       "      <td>78</td>\n",
       "      <td>20</td>\n",
       "      <td>1</td>\n",
       "      <td>0</td>\n",
       "      <td>1</td>\n",
       "      <td>0</td>\n",
       "      <td>0</td>\n",
       "      <td>0</td>\n",
       "    </tr>\n",
       "    <tr>\n",
       "      <th>1</th>\n",
       "      <td>no</td>\n",
       "      <td>no</td>\n",
       "      <td>no</td>\n",
       "      <td>no</td>\n",
       "      <td>no</td>\n",
       "      <td>70</td>\n",
       "      <td>60</td>\n",
       "      <td>1</td>\n",
       "      <td>0</td>\n",
       "      <td>0</td>\n",
       "      <td>0</td>\n",
       "      <td>0</td>\n",
       "      <td>1</td>\n",
       "    </tr>\n",
       "    <tr>\n",
       "      <th>2</th>\n",
       "      <td>no</td>\n",
       "      <td>yes</td>\n",
       "      <td>yes</td>\n",
       "      <td>no</td>\n",
       "      <td>no</td>\n",
       "      <td>95</td>\n",
       "      <td>40</td>\n",
       "      <td>0</td>\n",
       "      <td>1</td>\n",
       "      <td>1</td>\n",
       "      <td>0</td>\n",
       "      <td>0</td>\n",
       "      <td>0</td>\n",
       "    </tr>\n",
       "    <tr>\n",
       "      <th>3</th>\n",
       "      <td>no</td>\n",
       "      <td>no</td>\n",
       "      <td>yes</td>\n",
       "      <td>no</td>\n",
       "      <td>no</td>\n",
       "      <td>90</td>\n",
       "      <td>85</td>\n",
       "      <td>0</td>\n",
       "      <td>1</td>\n",
       "      <td>0</td>\n",
       "      <td>0</td>\n",
       "      <td>0</td>\n",
       "      <td>1</td>\n",
       "    </tr>\n",
       "    <tr>\n",
       "      <th>4</th>\n",
       "      <td>no</td>\n",
       "      <td>no</td>\n",
       "      <td>no</td>\n",
       "      <td>no</td>\n",
       "      <td>no</td>\n",
       "      <td>70</td>\n",
       "      <td>20</td>\n",
       "      <td>1</td>\n",
       "      <td>0</td>\n",
       "      <td>0</td>\n",
       "      <td>0</td>\n",
       "      <td>1</td>\n",
       "      <td>0</td>\n",
       "    </tr>\n",
       "  </tbody>\n",
       "</table>\n",
       "</div>"
      ],
      "text/plain": [
       "  Diabetes  IHD Hypertension Arrhythmia History  IPSI  Contra  NoRisk  Risk  \\\n",
       "0       no   no          yes         no      no    78      20       1     0   \n",
       "1       no   no           no         no      no    70      60       1     0   \n",
       "2       no  yes          yes         no      no    95      40       0     1   \n",
       "3       no   no          yes         no      no    90      85       0     1   \n",
       "4       no   no           no         no      no    70      20       1     0   \n",
       "\n",
       "   A-F  Asx  CVA  TIA  \n",
       "0    1    0    0    0  \n",
       "1    0    0    0    1  \n",
       "2    1    0    0    0  \n",
       "3    0    0    0    1  \n",
       "4    0    0    1    0  "
      ]
     },
     "execution_count": 27,
     "metadata": {},
     "output_type": "execute_result"
    }
   ],
   "source": [
    "MedicalRecordsDummies = MedicalRecordsWorkingCopy.copy()\n",
    "MedicalRecordsDummies.head()"
   ]
  },
  {
   "cell_type": "code",
   "execution_count": 28,
   "metadata": {},
   "outputs": [
    {
     "data": {
      "text/html": [
       "<div>\n",
       "<style scoped>\n",
       "    .dataframe tbody tr th:only-of-type {\n",
       "        vertical-align: middle;\n",
       "    }\n",
       "\n",
       "    .dataframe tbody tr th {\n",
       "        vertical-align: top;\n",
       "    }\n",
       "\n",
       "    .dataframe thead th {\n",
       "        text-align: right;\n",
       "    }\n",
       "</style>\n",
       "<table border=\"1\" class=\"dataframe\">\n",
       "  <thead>\n",
       "    <tr style=\"text-align: right;\">\n",
       "      <th></th>\n",
       "      <th>Diabetes</th>\n",
       "      <th>IHD</th>\n",
       "      <th>Hypertension</th>\n",
       "      <th>Arrhythmia</th>\n",
       "      <th>History</th>\n",
       "      <th>IPSI</th>\n",
       "      <th>Contra</th>\n",
       "      <th>NoRisk</th>\n",
       "      <th>Risk</th>\n",
       "      <th>A-F</th>\n",
       "      <th>Asx</th>\n",
       "      <th>CVA</th>\n",
       "      <th>TIA</th>\n",
       "    </tr>\n",
       "  </thead>\n",
       "  <tbody>\n",
       "    <tr>\n",
       "      <th>0</th>\n",
       "      <td>0</td>\n",
       "      <td>0</td>\n",
       "      <td>1</td>\n",
       "      <td>0</td>\n",
       "      <td>0</td>\n",
       "      <td>78</td>\n",
       "      <td>20</td>\n",
       "      <td>1</td>\n",
       "      <td>0</td>\n",
       "      <td>1</td>\n",
       "      <td>0</td>\n",
       "      <td>0</td>\n",
       "      <td>0</td>\n",
       "    </tr>\n",
       "    <tr>\n",
       "      <th>1</th>\n",
       "      <td>0</td>\n",
       "      <td>0</td>\n",
       "      <td>0</td>\n",
       "      <td>0</td>\n",
       "      <td>0</td>\n",
       "      <td>70</td>\n",
       "      <td>60</td>\n",
       "      <td>1</td>\n",
       "      <td>0</td>\n",
       "      <td>0</td>\n",
       "      <td>0</td>\n",
       "      <td>0</td>\n",
       "      <td>1</td>\n",
       "    </tr>\n",
       "    <tr>\n",
       "      <th>2</th>\n",
       "      <td>0</td>\n",
       "      <td>1</td>\n",
       "      <td>1</td>\n",
       "      <td>0</td>\n",
       "      <td>0</td>\n",
       "      <td>95</td>\n",
       "      <td>40</td>\n",
       "      <td>0</td>\n",
       "      <td>1</td>\n",
       "      <td>1</td>\n",
       "      <td>0</td>\n",
       "      <td>0</td>\n",
       "      <td>0</td>\n",
       "    </tr>\n",
       "    <tr>\n",
       "      <th>3</th>\n",
       "      <td>0</td>\n",
       "      <td>0</td>\n",
       "      <td>1</td>\n",
       "      <td>0</td>\n",
       "      <td>0</td>\n",
       "      <td>90</td>\n",
       "      <td>85</td>\n",
       "      <td>0</td>\n",
       "      <td>1</td>\n",
       "      <td>0</td>\n",
       "      <td>0</td>\n",
       "      <td>0</td>\n",
       "      <td>1</td>\n",
       "    </tr>\n",
       "    <tr>\n",
       "      <th>4</th>\n",
       "      <td>0</td>\n",
       "      <td>0</td>\n",
       "      <td>0</td>\n",
       "      <td>0</td>\n",
       "      <td>0</td>\n",
       "      <td>70</td>\n",
       "      <td>20</td>\n",
       "      <td>1</td>\n",
       "      <td>0</td>\n",
       "      <td>0</td>\n",
       "      <td>0</td>\n",
       "      <td>1</td>\n",
       "      <td>0</td>\n",
       "    </tr>\n",
       "  </tbody>\n",
       "</table>\n",
       "</div>"
      ],
      "text/plain": [
       "   Diabetes  IHD  Hypertension  Arrhythmia  History  IPSI  Contra  NoRisk  \\\n",
       "0         0    0             1           0        0    78      20       1   \n",
       "1         0    0             0           0        0    70      60       1   \n",
       "2         0    1             1           0        0    95      40       0   \n",
       "3         0    0             1           0        0    90      85       0   \n",
       "4         0    0             0           0        0    70      20       1   \n",
       "\n",
       "   Risk  A-F  Asx  CVA  TIA  \n",
       "0     0    1    0    0    0  \n",
       "1     0    0    0    0    1  \n",
       "2     1    1    0    0    0  \n",
       "3     1    0    0    0    1  \n",
       "4     0    0    0    1    0  "
      ]
     },
     "execution_count": 28,
     "metadata": {},
     "output_type": "execute_result"
    }
   ],
   "source": [
    "le = preprocessing.LabelEncoder() #create label encoder object to use on data\n",
    "\n",
    "MedicalRecordsDummies['Diabetes'] = le.fit_transform(MedicalRecordsDummies['Diabetes'])\n",
    "MedicalRecordsDummies['IHD'] = le.fit_transform(MedicalRecordsDummies['IHD'])\n",
    "MedicalRecordsDummies['Hypertension'] = le.fit_transform(MedicalRecordsDummies['Hypertension'])\n",
    "MedicalRecordsDummies['Arrhythmia'] = le.fit_transform(MedicalRecordsDummies['Arrhythmia'])\n",
    "MedicalRecordsDummies['History'] = le.fit_transform(MedicalRecordsDummies['History'])\n",
    "MedicalRecordsDummies.head()"
   ]
  },
  {
   "cell_type": "code",
   "execution_count": null,
   "metadata": {},
   "outputs": [],
   "source": []
  },
  {
   "cell_type": "code",
   "execution_count": 29,
   "metadata": {
    "scrolled": false
   },
   "outputs": [
    {
     "data": {
      "text/html": [
       "<div>\n",
       "<style scoped>\n",
       "    .dataframe tbody tr th:only-of-type {\n",
       "        vertical-align: middle;\n",
       "    }\n",
       "\n",
       "    .dataframe tbody tr th {\n",
       "        vertical-align: top;\n",
       "    }\n",
       "\n",
       "    .dataframe thead th {\n",
       "        text-align: right;\n",
       "    }\n",
       "</style>\n",
       "<table border=\"1\" class=\"dataframe\">\n",
       "  <thead>\n",
       "    <tr style=\"text-align: right;\">\n",
       "      <th></th>\n",
       "      <th>Diabetes</th>\n",
       "      <th>IHD</th>\n",
       "      <th>Hypertension</th>\n",
       "      <th>Arrhythmia</th>\n",
       "      <th>History</th>\n",
       "      <th>IPSI</th>\n",
       "      <th>Contra</th>\n",
       "      <th>NoRisk</th>\n",
       "      <th>Risk</th>\n",
       "      <th>A-F</th>\n",
       "      <th>Asx</th>\n",
       "      <th>CVA</th>\n",
       "      <th>TIA</th>\n",
       "    </tr>\n",
       "  </thead>\n",
       "  <tbody>\n",
       "    <tr>\n",
       "      <th>Diabetes</th>\n",
       "      <td>1.000000</td>\n",
       "      <td>0.064017</td>\n",
       "      <td>0.164368</td>\n",
       "      <td>0.095624</td>\n",
       "      <td>-0.002545</td>\n",
       "      <td>0.158694</td>\n",
       "      <td>0.188610</td>\n",
       "      <td>-0.285510</td>\n",
       "      <td>0.285510</td>\n",
       "      <td>-0.009462</td>\n",
       "      <td>0.036593</td>\n",
       "      <td>-0.050563</td>\n",
       "      <td>0.032132</td>\n",
       "    </tr>\n",
       "    <tr>\n",
       "      <th>IHD</th>\n",
       "      <td>0.064017</td>\n",
       "      <td>1.000000</td>\n",
       "      <td>0.137069</td>\n",
       "      <td>0.168570</td>\n",
       "      <td>-0.071391</td>\n",
       "      <td>0.090221</td>\n",
       "      <td>0.113951</td>\n",
       "      <td>-0.252071</td>\n",
       "      <td>0.252071</td>\n",
       "      <td>0.049031</td>\n",
       "      <td>0.017554</td>\n",
       "      <td>-0.002756</td>\n",
       "      <td>-0.063760</td>\n",
       "    </tr>\n",
       "    <tr>\n",
       "      <th>Hypertension</th>\n",
       "      <td>0.164368</td>\n",
       "      <td>0.137069</td>\n",
       "      <td>1.000000</td>\n",
       "      <td>0.289896</td>\n",
       "      <td>-0.073294</td>\n",
       "      <td>0.089246</td>\n",
       "      <td>0.113192</td>\n",
       "      <td>-0.387746</td>\n",
       "      <td>0.387746</td>\n",
       "      <td>-0.101607</td>\n",
       "      <td>0.060377</td>\n",
       "      <td>0.080493</td>\n",
       "      <td>-0.021376</td>\n",
       "    </tr>\n",
       "    <tr>\n",
       "      <th>Arrhythmia</th>\n",
       "      <td>0.095624</td>\n",
       "      <td>0.168570</td>\n",
       "      <td>0.289896</td>\n",
       "      <td>1.000000</td>\n",
       "      <td>0.003544</td>\n",
       "      <td>0.391332</td>\n",
       "      <td>0.496099</td>\n",
       "      <td>-0.706442</td>\n",
       "      <td>0.706442</td>\n",
       "      <td>0.043948</td>\n",
       "      <td>0.099263</td>\n",
       "      <td>0.128973</td>\n",
       "      <td>-0.257589</td>\n",
       "    </tr>\n",
       "    <tr>\n",
       "      <th>History</th>\n",
       "      <td>-0.002545</td>\n",
       "      <td>-0.071391</td>\n",
       "      <td>-0.073294</td>\n",
       "      <td>0.003544</td>\n",
       "      <td>1.000000</td>\n",
       "      <td>-0.000118</td>\n",
       "      <td>0.103961</td>\n",
       "      <td>0.003921</td>\n",
       "      <td>-0.003921</td>\n",
       "      <td>-0.061189</td>\n",
       "      <td>-0.050040</td>\n",
       "      <td>0.000382</td>\n",
       "      <td>0.105230</td>\n",
       "    </tr>\n",
       "    <tr>\n",
       "      <th>IPSI</th>\n",
       "      <td>0.158694</td>\n",
       "      <td>0.090221</td>\n",
       "      <td>0.089246</td>\n",
       "      <td>0.391332</td>\n",
       "      <td>-0.000118</td>\n",
       "      <td>1.000000</td>\n",
       "      <td>0.317034</td>\n",
       "      <td>-0.490566</td>\n",
       "      <td>0.490566</td>\n",
       "      <td>0.151534</td>\n",
       "      <td>0.062849</td>\n",
       "      <td>-0.024505</td>\n",
       "      <td>-0.187714</td>\n",
       "    </tr>\n",
       "    <tr>\n",
       "      <th>Contra</th>\n",
       "      <td>0.188610</td>\n",
       "      <td>0.113951</td>\n",
       "      <td>0.113192</td>\n",
       "      <td>0.496099</td>\n",
       "      <td>0.103961</td>\n",
       "      <td>0.317034</td>\n",
       "      <td>1.000000</td>\n",
       "      <td>-0.649821</td>\n",
       "      <td>0.649821</td>\n",
       "      <td>-0.001670</td>\n",
       "      <td>0.020183</td>\n",
       "      <td>0.057459</td>\n",
       "      <td>-0.072738</td>\n",
       "    </tr>\n",
       "    <tr>\n",
       "      <th>NoRisk</th>\n",
       "      <td>-0.285510</td>\n",
       "      <td>-0.252071</td>\n",
       "      <td>-0.387746</td>\n",
       "      <td>-0.706442</td>\n",
       "      <td>0.003921</td>\n",
       "      <td>-0.490566</td>\n",
       "      <td>-0.649821</td>\n",
       "      <td>1.000000</td>\n",
       "      <td>-1.000000</td>\n",
       "      <td>-0.117663</td>\n",
       "      <td>-0.128898</td>\n",
       "      <td>0.018023</td>\n",
       "      <td>0.210995</td>\n",
       "    </tr>\n",
       "    <tr>\n",
       "      <th>Risk</th>\n",
       "      <td>0.285510</td>\n",
       "      <td>0.252071</td>\n",
       "      <td>0.387746</td>\n",
       "      <td>0.706442</td>\n",
       "      <td>-0.003921</td>\n",
       "      <td>0.490566</td>\n",
       "      <td>0.649821</td>\n",
       "      <td>-1.000000</td>\n",
       "      <td>1.000000</td>\n",
       "      <td>0.117663</td>\n",
       "      <td>0.128898</td>\n",
       "      <td>-0.018023</td>\n",
       "      <td>-0.210995</td>\n",
       "    </tr>\n",
       "    <tr>\n",
       "      <th>A-F</th>\n",
       "      <td>-0.009462</td>\n",
       "      <td>0.049031</td>\n",
       "      <td>-0.101607</td>\n",
       "      <td>0.043948</td>\n",
       "      <td>-0.061189</td>\n",
       "      <td>0.151534</td>\n",
       "      <td>-0.001670</td>\n",
       "      <td>-0.117663</td>\n",
       "      <td>0.117663</td>\n",
       "      <td>1.000000</td>\n",
       "      <td>-0.285248</td>\n",
       "      <td>-0.424391</td>\n",
       "      <td>-0.410811</td>\n",
       "    </tr>\n",
       "    <tr>\n",
       "      <th>Asx</th>\n",
       "      <td>0.036593</td>\n",
       "      <td>0.017554</td>\n",
       "      <td>0.060377</td>\n",
       "      <td>0.099263</td>\n",
       "      <td>-0.050040</td>\n",
       "      <td>0.062849</td>\n",
       "      <td>0.020183</td>\n",
       "      <td>-0.128898</td>\n",
       "      <td>0.128898</td>\n",
       "      <td>-0.285248</td>\n",
       "      <td>1.000000</td>\n",
       "      <td>-0.250283</td>\n",
       "      <td>-0.242275</td>\n",
       "    </tr>\n",
       "    <tr>\n",
       "      <th>CVA</th>\n",
       "      <td>-0.050563</td>\n",
       "      <td>-0.002756</td>\n",
       "      <td>0.080493</td>\n",
       "      <td>0.128973</td>\n",
       "      <td>0.000382</td>\n",
       "      <td>-0.024505</td>\n",
       "      <td>0.057459</td>\n",
       "      <td>0.018023</td>\n",
       "      <td>-0.018023</td>\n",
       "      <td>-0.424391</td>\n",
       "      <td>-0.250283</td>\n",
       "      <td>1.000000</td>\n",
       "      <td>-0.360455</td>\n",
       "    </tr>\n",
       "    <tr>\n",
       "      <th>TIA</th>\n",
       "      <td>0.032132</td>\n",
       "      <td>-0.063760</td>\n",
       "      <td>-0.021376</td>\n",
       "      <td>-0.257589</td>\n",
       "      <td>0.105230</td>\n",
       "      <td>-0.187714</td>\n",
       "      <td>-0.072738</td>\n",
       "      <td>0.210995</td>\n",
       "      <td>-0.210995</td>\n",
       "      <td>-0.410811</td>\n",
       "      <td>-0.242275</td>\n",
       "      <td>-0.360455</td>\n",
       "      <td>1.000000</td>\n",
       "    </tr>\n",
       "  </tbody>\n",
       "</table>\n",
       "</div>"
      ],
      "text/plain": [
       "              Diabetes       IHD  Hypertension  Arrhythmia   History  \\\n",
       "Diabetes      1.000000  0.064017      0.164368    0.095624 -0.002545   \n",
       "IHD           0.064017  1.000000      0.137069    0.168570 -0.071391   \n",
       "Hypertension  0.164368  0.137069      1.000000    0.289896 -0.073294   \n",
       "Arrhythmia    0.095624  0.168570      0.289896    1.000000  0.003544   \n",
       "History      -0.002545 -0.071391     -0.073294    0.003544  1.000000   \n",
       "IPSI          0.158694  0.090221      0.089246    0.391332 -0.000118   \n",
       "Contra        0.188610  0.113951      0.113192    0.496099  0.103961   \n",
       "NoRisk       -0.285510 -0.252071     -0.387746   -0.706442  0.003921   \n",
       "Risk          0.285510  0.252071      0.387746    0.706442 -0.003921   \n",
       "A-F          -0.009462  0.049031     -0.101607    0.043948 -0.061189   \n",
       "Asx           0.036593  0.017554      0.060377    0.099263 -0.050040   \n",
       "CVA          -0.050563 -0.002756      0.080493    0.128973  0.000382   \n",
       "TIA           0.032132 -0.063760     -0.021376   -0.257589  0.105230   \n",
       "\n",
       "                  IPSI    Contra    NoRisk      Risk       A-F       Asx  \\\n",
       "Diabetes      0.158694  0.188610 -0.285510  0.285510 -0.009462  0.036593   \n",
       "IHD           0.090221  0.113951 -0.252071  0.252071  0.049031  0.017554   \n",
       "Hypertension  0.089246  0.113192 -0.387746  0.387746 -0.101607  0.060377   \n",
       "Arrhythmia    0.391332  0.496099 -0.706442  0.706442  0.043948  0.099263   \n",
       "History      -0.000118  0.103961  0.003921 -0.003921 -0.061189 -0.050040   \n",
       "IPSI          1.000000  0.317034 -0.490566  0.490566  0.151534  0.062849   \n",
       "Contra        0.317034  1.000000 -0.649821  0.649821 -0.001670  0.020183   \n",
       "NoRisk       -0.490566 -0.649821  1.000000 -1.000000 -0.117663 -0.128898   \n",
       "Risk          0.490566  0.649821 -1.000000  1.000000  0.117663  0.128898   \n",
       "A-F           0.151534 -0.001670 -0.117663  0.117663  1.000000 -0.285248   \n",
       "Asx           0.062849  0.020183 -0.128898  0.128898 -0.285248  1.000000   \n",
       "CVA          -0.024505  0.057459  0.018023 -0.018023 -0.424391 -0.250283   \n",
       "TIA          -0.187714 -0.072738  0.210995 -0.210995 -0.410811 -0.242275   \n",
       "\n",
       "                   CVA       TIA  \n",
       "Diabetes     -0.050563  0.032132  \n",
       "IHD          -0.002756 -0.063760  \n",
       "Hypertension  0.080493 -0.021376  \n",
       "Arrhythmia    0.128973 -0.257589  \n",
       "History       0.000382  0.105230  \n",
       "IPSI         -0.024505 -0.187714  \n",
       "Contra        0.057459 -0.072738  \n",
       "NoRisk        0.018023  0.210995  \n",
       "Risk         -0.018023 -0.210995  \n",
       "A-F          -0.424391 -0.410811  \n",
       "Asx          -0.250283 -0.242275  \n",
       "CVA           1.000000 -0.360455  \n",
       "TIA          -0.360455  1.000000  "
      ]
     },
     "execution_count": 29,
     "metadata": {},
     "output_type": "execute_result"
    }
   ],
   "source": [
    "MedicalRecordsCorr = MedicalRecordsDummies.corr()\n",
    "MedicalRecordsCorr"
   ]
  },
  {
   "cell_type": "code",
   "execution_count": 30,
   "metadata": {
    "scrolled": false
   },
   "outputs": [
    {
     "data": {
      "text/plain": [
       "<matplotlib.axes._subplots.AxesSubplot at 0x270b98f0>"
      ]
     },
     "execution_count": 30,
     "metadata": {},
     "output_type": "execute_result"
    },
    {
     "data": {
      "image/png": "[encoded data removed]",
      "text/plain": [
       "<Figure size 720x720 with 2 Axes>"
      ]
     },
     "metadata": {
      "needs_background": "light"
     },
     "output_type": "display_data"
    }
   ],
   "source": [
    "fig, ax = plt.subplots(figsize=(10,10))  \n",
    "sns.heatmap(MedicalRecordsCorr,annot=True)"
   ]
  },
  {
   "cell_type": "code",
   "execution_count": 82,
   "metadata": {},
   "outputs": [
    {
     "data": {
      "text/plain": [
       "<seaborn.axisgrid.PairGrid at 0x30979ff0>"
      ]
     },
     "execution_count": 82,
     "metadata": {},
     "output_type": "execute_result"
    },
    {
     "data": {
      "image/png": "[encoded data removed]",
      "text/plain": [
       "<Figure size 720x720 with 20 Axes>"
      ]
     },
     "metadata": {
      "needs_background": "light"
     },
     "output_type": "display_data"
    }
   ],
   "source": [
    "sns.pairplot(MedicalRecordsCorr,vars = ['IPSI','Contra','Arrhythmia','Risk'] )\n"
   ]
  },
  {
   "cell_type": "markdown",
   "metadata": {},
   "source": [
    "There seems to be correlations between the following\n",
    "\n",
    "Contra - Risk (Strong Correlation)\n",
    "\n",
    "IPSI - Risk (Strong Correlation)\n",
    "\n",
    "Arrhythmia - Risk (Very Strong Correlation)\n"
   ]
  },
  {
   "cell_type": "markdown",
   "metadata": {},
   "source": [
    "#### Visulise the Correlations"
   ]
  },
  {
   "cell_type": "markdown",
   "metadata": {},
   "source": [
    "The plot below seems to support the correlation between IPSI and Risk, as as the IPSI number increases the chance you are a risk also increases. This is by no means a certain stat as some at 99 IPSI are not a risk. "
   ]
  },
  {
   "cell_type": "code",
   "execution_count": 32,
   "metadata": {},
   "outputs": [
    {
     "data": {
      "image/png": "[encoded data removed]",
      "text/plain": [
       "<Figure size 576x576 with 1 Axes>"
      ]
     },
     "metadata": {
      "needs_background": "light"
     },
     "output_type": "display_data"
    }
   ],
   "source": [
    "RiskVsIPSICorr = sns.catplot(\"IPSI\",data = MedicalRecordsDummies, kind = 'count', hue = 'Risk')\n",
    "RiskVsIPSICorr.fig.set_size_inches(8,8)"
   ]
  },
  {
   "cell_type": "markdown",
   "metadata": {},
   "source": [
    "The plot below seems to support the correlation between Contra and Risk, as as the Contra number increases the chance you are a risk also increases. This correlation is particularly strong as when someone has 100% they have a very high chance of being a risk.\n",
    "\n",
    "As with the IPSI and Risk this is by no means certain as there are people that have 100% contra but are not at Risk\n"
   ]
  },
  {
   "cell_type": "code",
   "execution_count": 33,
   "metadata": {},
   "outputs": [
    {
     "data": {
      "image/png": "[encoded data removed]",
      "text/plain": [
       "<Figure size 576x576 with 1 Axes>"
      ]
     },
     "metadata": {
      "needs_background": "light"
     },
     "output_type": "display_data"
    }
   ],
   "source": [
    "RiskVsContraCorr = sns.catplot(\"Contra\",data = MedicalRecordsDummies, kind = 'count', hue = 'Risk')\n",
    "RiskVsContraCorr.fig.set_size_inches(8,8)"
   ]
  },
  {
   "cell_type": "markdown",
   "metadata": {},
   "source": [
    "The plot below seems to support the Very strong correlation between Arrhythmia and Risk, if the patient has Arrhythmia the chance you are a risk significantly increases.\n",
    "\n",
    "As with the other correlations its not certain as some people have Arrhythmia but are not a risk and people that have it that are not a risk"
   ]
  },
  {
   "cell_type": "code",
   "execution_count": 34,
   "metadata": {},
   "outputs": [
    {
     "data": {
      "image/png": "[encoded data removed]",
      "text/plain": [
       "<Figure size 576x576 with 1 Axes>"
      ]
     },
     "metadata": {
      "needs_background": "light"
     },
     "output_type": "display_data"
    }
   ],
   "source": [
    "RiskVsArrhythmiaCorr = sns.catplot(\"Arrhythmia\",data = MedicalRecordsDummies, kind = 'count', hue = 'Risk')\n",
    "RiskVsArrhythmiaCorr.fig.set_size_inches(8,8)"
   ]
  },
  {
   "cell_type": "markdown",
   "metadata": {},
   "source": [
    "#### Look for any outliers that may be skewing the correlations "
   ]
  },
  {
   "cell_type": "markdown",
   "metadata": {},
   "source": [
    "The boxplot below shows the outliers in IPSI, there are only 3 of them which is not large enough to skew the results of the correlation. I am also not going to drop these values as they still could be valid data that can be used to train a model."
   ]
  },
  {
   "cell_type": "code",
   "execution_count": 35,
   "metadata": {},
   "outputs": [
    {
     "data": {
      "text/plain": [
       "<matplotlib.axes._subplots.AxesSubplot at 0x2958df30>"
      ]
     },
     "execution_count": 35,
     "metadata": {},
     "output_type": "execute_result"
    },
    {
     "data": {
      "image/png": "[encoded data removed]",
      "text/plain": [
       "<Figure size 432x288 with 1 Axes>"
      ]
     },
     "metadata": {
      "needs_background": "light"
     },
     "output_type": "display_data"
    }
   ],
   "source": [
    "sns.boxplot(x = \"IPSI\", hue = \"Risk\", data = MedicalRecordsDummies)"
   ]
  },
  {
   "cell_type": "code",
   "execution_count": 36,
   "metadata": {},
   "outputs": [
    {
     "data": {
      "text/plain": [
       "<matplotlib.axes._subplots.AxesSubplot at 0x295d58d0>"
      ]
     },
     "execution_count": 36,
     "metadata": {},
     "output_type": "execute_result"
    },
    {
     "data": {
      "image/png": "[encoded data removed]",
      "text/plain": [
       "<Figure size 432x288 with 1 Axes>"
      ]
     },
     "metadata": {
      "needs_background": "light"
     },
     "output_type": "display_data"
    }
   ],
   "source": [
    "sns.distplot(MedicalRecordsDummies['IPSI'])\n"
   ]
  },
  {
   "cell_type": "markdown",
   "metadata": {},
   "source": [
    "The reason there are outliers is probably due to the fact the data is skewed to the higher values which means that the outliers are probably correct values."
   ]
  },
  {
   "cell_type": "markdown",
   "metadata": {},
   "source": [
    "Unlike IPSI, Contra has no outliers so any results can not be skewed. This is also reflected by the wide spread of data values in the distplot. \n",
    "\n",
    "\n",
    "Additionally, plotting Arrhythmia wouldnt show any outliers as the data was a clean booleon "
   ]
  },
  {
   "cell_type": "code",
   "execution_count": 37,
   "metadata": {},
   "outputs": [
    {
     "data": {
      "text/plain": [
       "<matplotlib.axes._subplots.AxesSubplot at 0x295e9b90>"
      ]
     },
     "execution_count": 37,
     "metadata": {},
     "output_type": "execute_result"
    },
    {
     "data": {
      "image/png": "[encoded data removed]",
      "text/plain": [
       "<Figure size 432x288 with 1 Axes>"
      ]
     },
     "metadata": {
      "needs_background": "light"
     },
     "output_type": "display_data"
    }
   ],
   "source": [
    "sns.boxplot(x = \"Contra\", data = MedicalRecordsDummies)"
   ]
  },
  {
   "cell_type": "code",
   "execution_count": 38,
   "metadata": {},
   "outputs": [
    {
     "data": {
      "text/plain": [
       "<matplotlib.axes._subplots.AxesSubplot at 0x296821b0>"
      ]
     },
     "execution_count": 38,
     "metadata": {},
     "output_type": "execute_result"
    },
    {
     "data": {
      "image/png": "[encoded data removed]",
      "text/plain": [
       "<Figure size 432x288 with 1 Axes>"
      ]
     },
     "metadata": {
      "needs_background": "light"
     },
     "output_type": "display_data"
    }
   ],
   "source": [
    "sns.distplot(MedicalRecordsDummies['Contra'])"
   ]
  },
  {
   "cell_type": "markdown",
   "metadata": {},
   "source": [
    "### Prepare for Modeling"
   ]
  },
  {
   "cell_type": "markdown",
   "metadata": {},
   "source": [
    "Prepare for modeling by copying the dummies data and dropping the NoRisk columb as having a negative Risk means no Risk"
   ]
  },
  {
   "cell_type": "code",
   "execution_count": 68,
   "metadata": {},
   "outputs": [
    {
     "data": {
      "text/html": [
       "<div>\n",
       "<style scoped>\n",
       "    .dataframe tbody tr th:only-of-type {\n",
       "        vertical-align: middle;\n",
       "    }\n",
       "\n",
       "    .dataframe tbody tr th {\n",
       "        vertical-align: top;\n",
       "    }\n",
       "\n",
       "    .dataframe thead th {\n",
       "        text-align: right;\n",
       "    }\n",
       "</style>\n",
       "<table border=\"1\" class=\"dataframe\">\n",
       "  <thead>\n",
       "    <tr style=\"text-align: right;\">\n",
       "      <th></th>\n",
       "      <th>Diabetes</th>\n",
       "      <th>IHD</th>\n",
       "      <th>Hypertension</th>\n",
       "      <th>Arrhythmia</th>\n",
       "      <th>History</th>\n",
       "      <th>IPSI</th>\n",
       "      <th>Contra</th>\n",
       "      <th>Risk</th>\n",
       "      <th>A-F</th>\n",
       "      <th>Asx</th>\n",
       "      <th>CVA</th>\n",
       "      <th>TIA</th>\n",
       "    </tr>\n",
       "  </thead>\n",
       "  <tbody>\n",
       "    <tr>\n",
       "      <th>0</th>\n",
       "      <td>0</td>\n",
       "      <td>0</td>\n",
       "      <td>1</td>\n",
       "      <td>0</td>\n",
       "      <td>0</td>\n",
       "      <td>78</td>\n",
       "      <td>20</td>\n",
       "      <td>0</td>\n",
       "      <td>1</td>\n",
       "      <td>0</td>\n",
       "      <td>0</td>\n",
       "      <td>0</td>\n",
       "    </tr>\n",
       "    <tr>\n",
       "      <th>1</th>\n",
       "      <td>0</td>\n",
       "      <td>0</td>\n",
       "      <td>0</td>\n",
       "      <td>0</td>\n",
       "      <td>0</td>\n",
       "      <td>70</td>\n",
       "      <td>60</td>\n",
       "      <td>0</td>\n",
       "      <td>0</td>\n",
       "      <td>0</td>\n",
       "      <td>0</td>\n",
       "      <td>1</td>\n",
       "    </tr>\n",
       "    <tr>\n",
       "      <th>2</th>\n",
       "      <td>0</td>\n",
       "      <td>1</td>\n",
       "      <td>1</td>\n",
       "      <td>0</td>\n",
       "      <td>0</td>\n",
       "      <td>95</td>\n",
       "      <td>40</td>\n",
       "      <td>1</td>\n",
       "      <td>1</td>\n",
       "      <td>0</td>\n",
       "      <td>0</td>\n",
       "      <td>0</td>\n",
       "    </tr>\n",
       "    <tr>\n",
       "      <th>3</th>\n",
       "      <td>0</td>\n",
       "      <td>0</td>\n",
       "      <td>1</td>\n",
       "      <td>0</td>\n",
       "      <td>0</td>\n",
       "      <td>90</td>\n",
       "      <td>85</td>\n",
       "      <td>1</td>\n",
       "      <td>0</td>\n",
       "      <td>0</td>\n",
       "      <td>0</td>\n",
       "      <td>1</td>\n",
       "    </tr>\n",
       "    <tr>\n",
       "      <th>4</th>\n",
       "      <td>0</td>\n",
       "      <td>0</td>\n",
       "      <td>0</td>\n",
       "      <td>0</td>\n",
       "      <td>0</td>\n",
       "      <td>70</td>\n",
       "      <td>20</td>\n",
       "      <td>0</td>\n",
       "      <td>0</td>\n",
       "      <td>0</td>\n",
       "      <td>1</td>\n",
       "      <td>0</td>\n",
       "    </tr>\n",
       "  </tbody>\n",
       "</table>\n",
       "</div>"
      ],
      "text/plain": [
       "   Diabetes  IHD  Hypertension  Arrhythmia  History  IPSI  Contra  Risk  A-F  \\\n",
       "0         0    0             1           0        0    78      20     0    1   \n",
       "1         0    0             0           0        0    70      60     0    0   \n",
       "2         0    1             1           0        0    95      40     1    1   \n",
       "3         0    0             1           0        0    90      85     1    0   \n",
       "4         0    0             0           0        0    70      20     0    0   \n",
       "\n",
       "   Asx  CVA  TIA  \n",
       "0    0    0    0  \n",
       "1    0    0    1  \n",
       "2    0    0    0  \n",
       "3    0    0    1  \n",
       "4    0    1    0  "
      ]
     },
     "execution_count": 68,
     "metadata": {},
     "output_type": "execute_result"
    }
   ],
   "source": [
    "ModelCopy = MedicalRecordsDummies.copy()\n",
    "\n",
    "ModelCopy = MedicalRecordsDummies.drop(columns=['NoRisk'])\n",
    "ModelCopy.head()"
   ]
  },
  {
   "cell_type": "markdown",
   "metadata": {},
   "source": [
    "#### Splitting the data"
   ]
  },
  {
   "cell_type": "markdown",
   "metadata": {},
   "source": [
    "To train a model you require a target dataset (what you are tring to predict) the rest of the data split into two. The first of which is the Risk data I am trying to predict, this has been split from the data set below"
   ]
  },
  {
   "cell_type": "code",
   "execution_count": 69,
   "metadata": {},
   "outputs": [
    {
     "data": {
      "text/html": [
       "<div>\n",
       "<style scoped>\n",
       "    .dataframe tbody tr th:only-of-type {\n",
       "        vertical-align: middle;\n",
       "    }\n",
       "\n",
       "    .dataframe tbody tr th {\n",
       "        vertical-align: top;\n",
       "    }\n",
       "\n",
       "    .dataframe thead th {\n",
       "        text-align: right;\n",
       "    }\n",
       "</style>\n",
       "<table border=\"1\" class=\"dataframe\">\n",
       "  <thead>\n",
       "    <tr style=\"text-align: right;\">\n",
       "      <th></th>\n",
       "      <th>Risk</th>\n",
       "    </tr>\n",
       "  </thead>\n",
       "  <tbody>\n",
       "    <tr>\n",
       "      <th>0</th>\n",
       "      <td>0</td>\n",
       "    </tr>\n",
       "    <tr>\n",
       "      <th>1</th>\n",
       "      <td>0</td>\n",
       "    </tr>\n",
       "    <tr>\n",
       "      <th>2</th>\n",
       "      <td>1</td>\n",
       "    </tr>\n",
       "    <tr>\n",
       "      <th>3</th>\n",
       "      <td>1</td>\n",
       "    </tr>\n",
       "    <tr>\n",
       "      <th>4</th>\n",
       "      <td>0</td>\n",
       "    </tr>\n",
       "  </tbody>\n",
       "</table>\n",
       "</div>"
      ],
      "text/plain": [
       "   Risk\n",
       "0     0\n",
       "1     0\n",
       "2     1\n",
       "3     1\n",
       "4     0"
      ]
     },
     "execution_count": 69,
     "metadata": {},
     "output_type": "execute_result"
    }
   ],
   "source": [
    "MedicalRecordsRisk = ModelCopy[['Risk']]\n",
    "MedicalRecordsRisk.head()"
   ]
  },
  {
   "cell_type": "markdown",
   "metadata": {},
   "source": [
    "The second data set is the rest of the data, I dropped the risk columb as if the model had the risk it couldnt learn what to predict properly. it cannot learn what it already knows. "
   ]
  },
  {
   "cell_type": "code",
   "execution_count": 41,
   "metadata": {},
   "outputs": [
    {
     "data": {
      "text/html": [
       "<div>\n",
       "<style scoped>\n",
       "    .dataframe tbody tr th:only-of-type {\n",
       "        vertical-align: middle;\n",
       "    }\n",
       "\n",
       "    .dataframe tbody tr th {\n",
       "        vertical-align: top;\n",
       "    }\n",
       "\n",
       "    .dataframe thead th {\n",
       "        text-align: right;\n",
       "    }\n",
       "</style>\n",
       "<table border=\"1\" class=\"dataframe\">\n",
       "  <thead>\n",
       "    <tr style=\"text-align: right;\">\n",
       "      <th></th>\n",
       "      <th>Diabetes</th>\n",
       "      <th>IHD</th>\n",
       "      <th>Hypertension</th>\n",
       "      <th>Arrhythmia</th>\n",
       "      <th>History</th>\n",
       "      <th>IPSI</th>\n",
       "      <th>Contra</th>\n",
       "      <th>A-F</th>\n",
       "      <th>Asx</th>\n",
       "      <th>CVA</th>\n",
       "      <th>TIA</th>\n",
       "    </tr>\n",
       "  </thead>\n",
       "  <tbody>\n",
       "    <tr>\n",
       "      <th>0</th>\n",
       "      <td>0</td>\n",
       "      <td>0</td>\n",
       "      <td>1</td>\n",
       "      <td>0</td>\n",
       "      <td>0</td>\n",
       "      <td>78</td>\n",
       "      <td>20</td>\n",
       "      <td>1</td>\n",
       "      <td>0</td>\n",
       "      <td>0</td>\n",
       "      <td>0</td>\n",
       "    </tr>\n",
       "    <tr>\n",
       "      <th>1</th>\n",
       "      <td>0</td>\n",
       "      <td>0</td>\n",
       "      <td>0</td>\n",
       "      <td>0</td>\n",
       "      <td>0</td>\n",
       "      <td>70</td>\n",
       "      <td>60</td>\n",
       "      <td>0</td>\n",
       "      <td>0</td>\n",
       "      <td>0</td>\n",
       "      <td>1</td>\n",
       "    </tr>\n",
       "    <tr>\n",
       "      <th>2</th>\n",
       "      <td>0</td>\n",
       "      <td>1</td>\n",
       "      <td>1</td>\n",
       "      <td>0</td>\n",
       "      <td>0</td>\n",
       "      <td>95</td>\n",
       "      <td>40</td>\n",
       "      <td>1</td>\n",
       "      <td>0</td>\n",
       "      <td>0</td>\n",
       "      <td>0</td>\n",
       "    </tr>\n",
       "    <tr>\n",
       "      <th>3</th>\n",
       "      <td>0</td>\n",
       "      <td>0</td>\n",
       "      <td>1</td>\n",
       "      <td>0</td>\n",
       "      <td>0</td>\n",
       "      <td>90</td>\n",
       "      <td>85</td>\n",
       "      <td>0</td>\n",
       "      <td>0</td>\n",
       "      <td>0</td>\n",
       "      <td>1</td>\n",
       "    </tr>\n",
       "    <tr>\n",
       "      <th>4</th>\n",
       "      <td>0</td>\n",
       "      <td>0</td>\n",
       "      <td>0</td>\n",
       "      <td>0</td>\n",
       "      <td>0</td>\n",
       "      <td>70</td>\n",
       "      <td>20</td>\n",
       "      <td>0</td>\n",
       "      <td>0</td>\n",
       "      <td>1</td>\n",
       "      <td>0</td>\n",
       "    </tr>\n",
       "  </tbody>\n",
       "</table>\n",
       "</div>"
      ],
      "text/plain": [
       "   Diabetes  IHD  Hypertension  Arrhythmia  History  IPSI  Contra  A-F  Asx  \\\n",
       "0         0    0             1           0        0    78      20    1    0   \n",
       "1         0    0             0           0        0    70      60    0    0   \n",
       "2         0    1             1           0        0    95      40    1    0   \n",
       "3         0    0             1           0        0    90      85    0    0   \n",
       "4         0    0             0           0        0    70      20    0    0   \n",
       "\n",
       "   CVA  TIA  \n",
       "0    0    0  \n",
       "1    0    1  \n",
       "2    0    0  \n",
       "3    0    1  \n",
       "4    1    0  "
      ]
     },
     "execution_count": 41,
     "metadata": {},
     "output_type": "execute_result"
    }
   ],
   "source": [
    "ModelCopy = ModelCopy.drop(columns=['Risk'])\n",
    "ModelCopy.head()"
   ]
  },
  {
   "cell_type": "markdown",
   "metadata": {},
   "source": [
    "This data is then split into four sets of data \n",
    "x training set (The data without risk for tarining the model)\n",
    "x test set (The data without the risk for testing the model) \n",
    "y training set (the risk data for training the model) \n",
    "y test (the risk data for testing the model) \n",
    "\n",
    "This is a 70% / 30% split between the Training and Test set, this is to ensure there is enough data to train and enough unseen data to test the model. \n",
    "\n",
    "This set is picked randomly from the dataset to ensure there is no bias in the picked data that might cause the model to underfit or overfit. "
   ]
  },
  {
   "cell_type": "code",
   "execution_count": 42,
   "metadata": {},
   "outputs": [],
   "source": [
    "xTrain, xTest,yTrain,yTest = train_test_split(ModelCopy,MedicalRecordsRisk, test_size = 0.30, shuffle = True)"
   ]
  },
  {
   "cell_type": "code",
   "execution_count": 66,
   "metadata": {},
   "outputs": [
    {
     "name": "stdout",
     "output_type": "stream",
     "text": [
      "Number of records in training set: Risk    1050\n",
      "dtype: int64\n",
      "Number of records in training set: Risk    450\n",
      "dtype: int64\n"
     ]
    },
    {
     "data": {
      "image/png": "[encoded data removed]",
      "text/plain": [
       "<Figure size 432x288 with 1 Axes>"
      ]
     },
     "metadata": {},
     "output_type": "display_data"
    }
   ],
   "source": [
    "print(\"Number of records in training set:\",yTrain.count())\n",
    "print(\"Number of records in training set:\", yTest.count())\n",
    "\n",
    "\n",
    "labels = 'Training Set(Y)', 'Testing Set(Y)'\n",
    "sizes = [1050, 450]\n",
    "colors = ['lightskyblue', 'lightcoral']\n",
    "explode = (0.1, 0)  # explode 1st slice\n",
    "\n",
    "plt.pie(sizes, explode=explode, labels=labels, colors=colors,\n",
    "autopct='%1.1f%%', shadow=True, startangle=140)\n",
    "\n",
    "plt.axis('equal')\n",
    "plt.show()"
   ]
  },
  {
   "cell_type": "code",
   "execution_count": 67,
   "metadata": {
    "scrolled": false
   },
   "outputs": [
    {
     "name": "stdout",
     "output_type": "stream",
     "text": [
      "Number of records in training set: Diabetes        1050\n",
      "IHD             1050\n",
      "Hypertension    1050\n",
      "Arrhythmia      1050\n",
      "History         1050\n",
      "IPSI            1050\n",
      "Contra          1050\n",
      "A-F             1050\n",
      "Asx             1050\n",
      "CVA             1050\n",
      "TIA             1050\n",
      "dtype: int64\n",
      "Number of records in training set: Diabetes        450\n",
      "IHD             450\n",
      "Hypertension    450\n",
      "Arrhythmia      450\n",
      "History         450\n",
      "IPSI            450\n",
      "Contra          450\n",
      "A-F             450\n",
      "Asx             450\n",
      "CVA             450\n",
      "TIA             450\n",
      "dtype: int64\n"
     ]
    },
    {
     "data": {
      "image/png": "[encoded data removed]",
      "text/plain": [
       "<Figure size 432x288 with 1 Axes>"
      ]
     },
     "metadata": {},
     "output_type": "display_data"
    }
   ],
   "source": [
    "print(\"Number of records in training set:\",xTrain.count())\n",
    "print(\"Number of records in training set:\", xTest.count())\n",
    "\n",
    "\n",
    "labels = 'Training Set(X)', 'Testing Set(X)'\n",
    "sizes = [1050, 450]\n",
    "colors = ['lightskyblue', 'lightcoral']\n",
    "explode = (0.1, 0)  # explode 1st slice\n",
    "\n",
    "plt.pie(sizes, explode=explode, labels=labels, colors=colors,\n",
    "autopct='%1.1f%%', shadow=True, startangle=140)\n",
    "\n",
    "plt.axis('equal')\n",
    "plt.show()"
   ]
  },
  {
   "cell_type": "markdown",
   "metadata": {},
   "source": [
    "# Modeling"
   ]
  },
  {
   "cell_type": "code",
   "execution_count": null,
   "metadata": {},
   "outputs": [],
   "source": []
  }
 ],
 "metadata": {
  "kernelspec": {
   "display_name": "Python 3",
   "language": "python",
   "name": "python3"
  },
  "language_info": {
   "codemirror_mode": {
    "name": "ipython",
    "version": 3
   },
   "file_extension": ".py",
   "mimetype": "text/x-python",
   "name": "python",
   "nbconvert_exporter": "python",
   "pygments_lexer": "ipython3",
   "version": "3.7.4"
  }
 },
 "nbformat": 4,
 "nbformat_minor": 2
}
